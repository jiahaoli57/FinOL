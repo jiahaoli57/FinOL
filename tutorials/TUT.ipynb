{
 "cells": [
  {
   "cell_type": "code",
   "execution_count": 22,
   "metadata": {
    "collapsed": true
   },
   "outputs": [
    {
     "name": "stdout",
     "output_type": "stream",
     "text": [
      "None\n",
      "2024-03-17_11-18-38\n",
      "2024-03-17_11-20-35\n",
      "2024-03-17_11-23-08\n"
     ]
    }
   ],
   "source": [
    "# import re\n",
    "# from finol.data_layer.data_loader import *\n",
    "# from finol.optimization_layer.model_trainer import *\n",
    "# from finol.evaluation_layer.model_evaluator import *\n",
    "from finol.config import *\n",
    "\n",
    "import os\n",
    "directory = ROOT_PATH + '/evaluation_layer/logdir'  # 替换为你要获取文件夹列表的目录路径\n",
    "import os\n",
    "import datetime\n",
    "\n",
    "def get_last_modified_file(directory):\n",
    "    files = [os.path.join(directory, f) for f in os.listdir(directory) if os.path.isfile(os.path.join(directory, f))]\n",
    "    if not files:\n",
    "        return None\n",
    "\n",
    "    last_modified_file = max(files, key=os.path.getmtime)\n",
    "    return last_modified_file\n",
    "\n",
    "directory = ROOT_PATH + '/evaluation_layer/logdir'  # 替换为你要获取文件夹列表的目录路径\n",
    "\n",
    "# 获取最后修改的文件\n",
    "last_modified_file = get_last_modified_file(directory)\n",
    "\n",
    "# 打印最后修改的文件路径\n",
    "print(last_modified_file)\n",
    "# 指定目录路径\n",
    "directory = ROOT_PATH + '/evaluation_layer/logdir'  # 替换为你要获取文件夹列表的目录路径\n",
    "\n",
    "# 遍历目录下的所有文件夹\n",
    "for foldername in os.listdir(directory):\n",
    "    # 检查文件夹名是否以数字2024开头\n",
    "    if foldername.startswith('2024') and os.path.isdir(os.path.join(directory, foldername)):\n",
    "        print(foldername)"
   ]
  },
  {
   "cell_type": "code",
   "execution_count": 21,
   "outputs": [],
   "source": [
    "import os\n",
    "\n",
    "# 指定目录路径\n",
    "directory = ROOT_PATH + '/evaluation_layer/logdir'  # 替换为你要获取文件夹列表的目录路径\n",
    "\n",
    "# 使用 os.listdir() 获取目录下的所有文件和文件夹\n",
    "file_list = os.listdir(directory)\n",
    "\n",
    "# 过滤出以 \"2024\" 开头的文件\n",
    "matching_files = [file_name for file_name in file_list if os.path.isfile(os.path.join(directory, file_name)) and file_name.startswith('2024-')]\n",
    "\n",
    "# 打印匹配的文件列表\n",
    "for file_name in matching_files:\n",
    "    print(file_name)"
   ],
   "metadata": {
    "collapsed": false,
    "pycharm": {
     "name": "#%%\n"
    }
   }
  },
  {
   "cell_type": "code",
   "execution_count": 3,
   "outputs": [
    {
     "data": {
      "text/plain": "start\n",
      "text/html": "<pre style=\"white-space:pre;overflow-x:auto;line-height:normal;font-family:Menlo,'DejaVu Sans Mono',consolas,'Courier New',monospace\">start\n</pre>\n"
     },
     "metadata": {},
     "output_type": "display_data"
    },
    {
     "name": "stderr",
     "output_type": "stream",
     "text": [
      "Data Loading: 100%|██████████| 26/26 [00:17<00:00,  1.49it/s]\n"
     ]
    },
    {
     "data": {
      "text/plain": "Successfully loaded \u001B[1;36m26\u001B[0m Excel \u001B[1;35mfile\u001B[0m\u001B[1m(\u001B[0ms\u001B[1m)\u001B[0m:\n",
      "text/html": "<pre style=\"white-space:pre;overflow-x:auto;line-height:normal;font-family:Menlo,'DejaVu Sans Mono',consolas,'Courier New',monospace\">Successfully loaded <span style=\"color: #008080; text-decoration-color: #008080; font-weight: bold\">26</span> Excel <span style=\"color: #800080; text-decoration-color: #800080; font-weight: bold\">file</span><span style=\"font-weight: bold\">(</span>s<span style=\"font-weight: bold\">)</span>:\n</pre>\n"
     },
     "metadata": {},
     "output_type": "display_data"
    },
    {
     "name": "stderr",
     "output_type": "stream",
     "text": [
      "Data Processing: 100%|██████████| 26/26 [00:39<00:00,  1.54s/it]\n"
     ]
    },
    {
     "ename": "IndexError",
     "evalue": "tuple index out of range",
     "output_type": "error",
     "traceback": [
      "\u001B[1;31m---------------------------------------------------------------------------\u001B[0m",
      "\u001B[1;31mIndexError\u001B[0m                                Traceback (most recent call last)",
      "Cell \u001B[1;32mIn[3], line 8\u001B[0m\n\u001B[0;32m      2\u001B[0m load_dataset_output \u001B[38;5;241m=\u001B[39m load_dataset()\n\u001B[0;32m      3\u001B[0m train_model_output \u001B[38;5;241m=\u001B[39m {\n\u001B[0;32m      4\u001B[0m     \u001B[38;5;124m\"\u001B[39m\u001B[38;5;124mlast_model\u001B[39m\u001B[38;5;124m\"\u001B[39m: \u001B[38;5;28;01mNone\u001B[39;00m,\n\u001B[0;32m      5\u001B[0m     \u001B[38;5;124m\"\u001B[39m\u001B[38;5;124mbest_model\u001B[39m\u001B[38;5;124m\"\u001B[39m: \u001B[38;5;28;01mNone\u001B[39;00m,\n\u001B[0;32m      6\u001B[0m     \u001B[38;5;124m\"\u001B[39m\u001B[38;5;124mlogdir\u001B[39m\u001B[38;5;124m\"\u001B[39m: ROOT_PATH \u001B[38;5;241m+\u001B[39m \u001B[38;5;124m'\u001B[39m\u001B[38;5;124m/evaluation_layer/2024-03-16_20-55-29\u001B[39m\u001B[38;5;124m'\u001B[39m\n\u001B[0;32m      7\u001B[0m }\n\u001B[1;32m----> 8\u001B[0m \u001B[43mevaluate_model\u001B[49m\u001B[43m(\u001B[49m\u001B[43mload_dataset_output\u001B[49m\u001B[43m,\u001B[49m\u001B[43m \u001B[49m\u001B[43mtrain_model_output\u001B[49m\u001B[43m)\u001B[49m\n",
      "File \u001B[1;32mD:\\360安全云盘同步版\\01-广工\\07-研一\\00-论文\\00-本人论文\\13-FinOL\\FinOL\\finol\\evaluation_layer\\model_evaluator.py:28\u001B[0m, in \u001B[0;36mevaluate_model\u001B[1;34m(load_dataset_output, train_model_output)\u001B[0m\n\u001B[0;32m     22\u001B[0m test_loader \u001B[38;5;241m=\u001B[39m load_dataset_output[\u001B[38;5;124m\"\u001B[39m\u001B[38;5;124mtest_loader\u001B[39m\u001B[38;5;124m\"\u001B[39m]\n\u001B[0;32m     23\u001B[0m \u001B[38;5;66;03m# NUM_TRAIN_PERIODS = load_dataset_output[\"NUM_TRAIN_PERIODS\"]\u001B[39;00m\n\u001B[0;32m     24\u001B[0m \u001B[38;5;66;03m# NUM_VAL_PERIODS = load_dataset_output[\"NUM_VAL_PERIODS\"]\u001B[39;00m\n\u001B[0;32m     25\u001B[0m \u001B[38;5;66;03m# NUM_TEST_PERIODS = load_dataset_output[\"NUM_TEST_PERIODS\"]\u001B[39;00m\n\u001B[0;32m     26\u001B[0m \u001B[38;5;66;03m# NUM_ASSETS = load_dataset_output[\"NUM_ASSETS\"]\u001B[39;00m\n\u001B[1;32m---> 28\u001B[0m caculate_metric_output \u001B[38;5;241m=\u001B[39m \u001B[43mcaculate_metric\u001B[49m\u001B[43m(\u001B[49m\u001B[43mmodel\u001B[49m\u001B[43m,\u001B[49m\u001B[43m \u001B[49m\u001B[43mtest_loader\u001B[49m\u001B[43m)\u001B[49m\n\u001B[0;32m     29\u001B[0m load_benchmark_output \u001B[38;5;241m=\u001B[39m load_benchmark(caculate_metric_output)\n\u001B[0;32m     30\u001B[0m evaluate_model_output \u001B[38;5;241m=\u001B[39m load_benchmark_output\n",
      "File \u001B[1;32mD:\\360安全云盘同步版\\01-广工\\07-研一\\00-论文\\00-本人论文\\13-FinOL\\FinOL\\finol\\evaluation_layer\\metric_caculator.py:133\u001B[0m, in \u001B[0;36mcaculate_metric\u001B[1;34m(model, test_loader)\u001B[0m\n\u001B[0;32m    131\u001B[0m portfolios \u001B[38;5;241m=\u001B[39m portfolios\u001B[38;5;241m.\u001B[39mcpu()\u001B[38;5;241m.\u001B[39mdetach()\u001B[38;5;241m.\u001B[39mnumpy()\n\u001B[0;32m    132\u001B[0m NUM_PERIODS \u001B[38;5;241m=\u001B[39m portfolios\u001B[38;5;241m.\u001B[39mshape[\u001B[38;5;241m0\u001B[39m]\n\u001B[1;32m--> 133\u001B[0m NUM_ASSETS \u001B[38;5;241m=\u001B[39m \u001B[43mportfolios\u001B[49m\u001B[38;5;241;43m.\u001B[39;49m\u001B[43mshape\u001B[49m\u001B[43m[\u001B[49m\u001B[38;5;241;43m1\u001B[39;49m\u001B[43m]\u001B[49m\n\u001B[0;32m    135\u001B[0m daily_return \u001B[38;5;241m=\u001B[39m np\u001B[38;5;241m.\u001B[39msum(labels \u001B[38;5;241m*\u001B[39m portfolios, axis\u001B[38;5;241m=\u001B[39m\u001B[38;5;241m1\u001B[39m)\n\u001B[0;32m    136\u001B[0m total_return \u001B[38;5;241m=\u001B[39m np\u001B[38;5;241m.\u001B[39mcumprod(daily_return)\n",
      "\u001B[1;31mIndexError\u001B[0m: tuple index out of range"
     ]
    }
   ],
   "source": [
    "print('start')\n",
    "load_dataset_output = load_dataset()\n",
    "train_model_output = {\n",
    "    \"last_model\": None,\n",
    "    \"best_model\": None,\n",
    "    \"logdir\": ROOT_PATH + '/evaluation_layer/2024-03-16_20-55-29'\n",
    "}\n",
    "evaluate_model(load_dataset_output, train_model_output)"
   ],
   "metadata": {
    "collapsed": false,
    "pycharm": {
     "name": "#%%\n"
    }
   }
  },
  {
   "cell_type": "code",
   "execution_count": 4,
   "outputs": [
    {
     "ename": "IndexError",
     "evalue": "tuple index out of range",
     "output_type": "error",
     "traceback": [
      "\u001B[1;31m---------------------------------------------------------------------------\u001B[0m",
      "\u001B[1;31mIndexError\u001B[0m                                Traceback (most recent call last)",
      "Cell \u001B[1;32mIn[4], line 6\u001B[0m\n\u001B[0;32m      1\u001B[0m train_model_output \u001B[38;5;241m=\u001B[39m {\n\u001B[0;32m      2\u001B[0m     \u001B[38;5;124m\"\u001B[39m\u001B[38;5;124mlast_model\u001B[39m\u001B[38;5;124m\"\u001B[39m: \u001B[38;5;28;01mNone\u001B[39;00m,\n\u001B[0;32m      3\u001B[0m     \u001B[38;5;124m\"\u001B[39m\u001B[38;5;124mbest_model\u001B[39m\u001B[38;5;124m\"\u001B[39m: \u001B[38;5;28;01mNone\u001B[39;00m,\n\u001B[0;32m      4\u001B[0m     \u001B[38;5;124m\"\u001B[39m\u001B[38;5;124mlogdir\u001B[39m\u001B[38;5;124m\"\u001B[39m: ROOT_PATH \u001B[38;5;241m+\u001B[39m \u001B[38;5;124m'\u001B[39m\u001B[38;5;124m/evaluation_layer/2024-03-16_20-55-29\u001B[39m\u001B[38;5;124m'\u001B[39m\n\u001B[0;32m      5\u001B[0m }\n\u001B[1;32m----> 6\u001B[0m \u001B[43mevaluate_model\u001B[49m\u001B[43m(\u001B[49m\u001B[43mload_dataset_output\u001B[49m\u001B[43m,\u001B[49m\u001B[43m \u001B[49m\u001B[43mtrain_model_output\u001B[49m\u001B[43m)\u001B[49m\n",
      "File \u001B[1;32mD:\\360安全云盘同步版\\01-广工\\07-研一\\00-论文\\00-本人论文\\13-FinOL\\FinOL\\finol\\evaluation_layer\\model_evaluator.py:28\u001B[0m, in \u001B[0;36mevaluate_model\u001B[1;34m(load_dataset_output, train_model_output)\u001B[0m\n\u001B[0;32m     22\u001B[0m test_loader \u001B[38;5;241m=\u001B[39m load_dataset_output[\u001B[38;5;124m\"\u001B[39m\u001B[38;5;124mtest_loader\u001B[39m\u001B[38;5;124m\"\u001B[39m]\n\u001B[0;32m     23\u001B[0m \u001B[38;5;66;03m# NUM_TRAIN_PERIODS = load_dataset_output[\"NUM_TRAIN_PERIODS\"]\u001B[39;00m\n\u001B[0;32m     24\u001B[0m \u001B[38;5;66;03m# NUM_VAL_PERIODS = load_dataset_output[\"NUM_VAL_PERIODS\"]\u001B[39;00m\n\u001B[0;32m     25\u001B[0m \u001B[38;5;66;03m# NUM_TEST_PERIODS = load_dataset_output[\"NUM_TEST_PERIODS\"]\u001B[39;00m\n\u001B[0;32m     26\u001B[0m \u001B[38;5;66;03m# NUM_ASSETS = load_dataset_output[\"NUM_ASSETS\"]\u001B[39;00m\n\u001B[1;32m---> 28\u001B[0m caculate_metric_output \u001B[38;5;241m=\u001B[39m \u001B[43mcaculate_metric\u001B[49m\u001B[43m(\u001B[49m\u001B[43mmodel\u001B[49m\u001B[43m,\u001B[49m\u001B[43m \u001B[49m\u001B[43mtest_loader\u001B[49m\u001B[43m)\u001B[49m\n\u001B[0;32m     29\u001B[0m load_benchmark_output \u001B[38;5;241m=\u001B[39m load_benchmark(caculate_metric_output)\n\u001B[0;32m     30\u001B[0m evaluate_model_output \u001B[38;5;241m=\u001B[39m load_benchmark_output\n",
      "File \u001B[1;32mD:\\360安全云盘同步版\\01-广工\\07-研一\\00-论文\\00-本人论文\\13-FinOL\\FinOL\\finol\\evaluation_layer\\metric_caculator.py:133\u001B[0m, in \u001B[0;36mcaculate_metric\u001B[1;34m(model, test_loader)\u001B[0m\n\u001B[0;32m    131\u001B[0m portfolios \u001B[38;5;241m=\u001B[39m portfolios\u001B[38;5;241m.\u001B[39mcpu()\u001B[38;5;241m.\u001B[39mdetach()\u001B[38;5;241m.\u001B[39mnumpy()\n\u001B[0;32m    132\u001B[0m NUM_PERIODS \u001B[38;5;241m=\u001B[39m portfolios\u001B[38;5;241m.\u001B[39mshape[\u001B[38;5;241m0\u001B[39m]\n\u001B[1;32m--> 133\u001B[0m NUM_ASSETS \u001B[38;5;241m=\u001B[39m \u001B[43mportfolios\u001B[49m\u001B[38;5;241;43m.\u001B[39;49m\u001B[43mshape\u001B[49m\u001B[43m[\u001B[49m\u001B[38;5;241;43m1\u001B[39;49m\u001B[43m]\u001B[49m\n\u001B[0;32m    135\u001B[0m daily_return \u001B[38;5;241m=\u001B[39m np\u001B[38;5;241m.\u001B[39msum(labels \u001B[38;5;241m*\u001B[39m portfolios, axis\u001B[38;5;241m=\u001B[39m\u001B[38;5;241m1\u001B[39m)\n\u001B[0;32m    136\u001B[0m total_return \u001B[38;5;241m=\u001B[39m np\u001B[38;5;241m.\u001B[39mcumprod(daily_return)\n",
      "\u001B[1;31mIndexError\u001B[0m: tuple index out of range"
     ]
    }
   ],
   "source": [
    "\n",
    "train_model_output = {\n",
    "    \"last_model\": None,\n",
    "    \"best_model\": None,\n",
    "    \"logdir\": ROOT_PATH + '/evaluation_layer/2024-03-16_20-55-29'\n",
    "}\n",
    "evaluate_model(load_dataset_output, train_model_output)"
   ],
   "metadata": {
    "collapsed": false,
    "pycharm": {
     "name": "#%%\n"
    }
   }
  },
  {
   "cell_type": "code",
   "execution_count": null,
   "outputs": [],
   "source": [],
   "metadata": {
    "collapsed": false,
    "pycharm": {
     "name": "#%%\n"
    }
   }
  }
 ],
 "metadata": {
  "kernelspec": {
   "display_name": "Python 3",
   "language": "python",
   "name": "python3"
  },
  "language_info": {
   "codemirror_mode": {
    "name": "ipython",
    "version": 2
   },
   "file_extension": ".py",
   "mimetype": "text/x-python",
   "name": "python",
   "nbconvert_exporter": "python",
   "pygments_lexer": "ipython2",
   "version": "2.7.6"
  }
 },
 "nbformat": 4,
 "nbformat_minor": 0
}