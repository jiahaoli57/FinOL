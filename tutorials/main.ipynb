{
 "cells": [
  {
   "cell_type": "code",
   "execution_count": 1,
   "metadata": {
    "collapsed": true
   },
   "outputs": [
    {
     "name": "stderr",
     "output_type": "stream",
     "text": [
      "Data Loading: 100%|██████████| 26/26 [00:24<00:00,  1.07it/s]\n"
     ]
    },
    {
     "data": {
      "text/plain": "Successfully loaded \u001B[1;36m26\u001B[0m Excel \u001B[1;35mfile\u001B[0m\u001B[1m(\u001B[0ms\u001B[1m)\u001B[0m:\n",
      "text/html": "<pre style=\"white-space:pre;overflow-x:auto;line-height:normal;font-family:Menlo,'DejaVu Sans Mono',consolas,'Courier New',monospace\">Successfully loaded <span style=\"color: #008080; text-decoration-color: #008080; font-weight: bold\">26</span> Excel <span style=\"color: #800080; text-decoration-color: #800080; font-weight: bold\">file</span><span style=\"font-weight: bold\">(</span>s<span style=\"font-weight: bold\">)</span>:\n</pre>\n"
     },
     "metadata": {},
     "output_type": "display_data"
    },
    {
     "name": "stderr",
     "output_type": "stream",
     "text": [
      "Data Processing: 100%|██████████| 26/26 [01:12<00:00,  2.77s/it]\n"
     ]
    },
    {
     "data": {
      "text/plain": "{'train_loader': <torch.utils.data.dataloader.DataLoader at 0x17a0c62a310>,\n 'val_loader': <torch.utils.data.dataloader.DataLoader at 0x17a0c62a580>,\n 'test_loader': <torch.utils.data.dataloader.DataLoader at 0x17a0c62a6a0>,\n 'NUM_TRAIN_PERIODS': 3293,\n 'NUM_VAL_PERIODS': 1130,\n 'NUM_TEST_PERIODS': 1131,\n 'NUM_ASSETS': 26,\n 'NUM_FEATURES_AUGMENTED': 1430,\n 'NUM_FEATURES_ORIGINAL': 143,\n 'WINDOW_SIZE': 10}"
     },
     "execution_count": 1,
     "metadata": {},
     "output_type": "execute_result"
    }
   ],
   "source": [
    "from finol.data_layer.data_loader import *\n",
    "load_dataset_output = load_dataset()\n",
    "load_dataset_output"
   ]
  },
  {
   "cell_type": "code",
   "execution_count": 3,
   "outputs": [
    {
     "data": {
      "text/plain": "\u001B[1m{\u001B[0m\n    \u001B[32m'train_loader'\u001B[0m: \u001B[1m<\u001B[0m\u001B[1;95mtorch.utils.data.dataloader.DataLoader\u001B[0m\u001B[39m object at \u001B[0m\u001B[1;36m0x0000017A0C62A310\u001B[0m\u001B[39m>,\u001B[0m\n\u001B[39m    \u001B[0m\u001B[32m'val_loader'\u001B[0m\u001B[39m: <torch.utils.data.dataloader.DataLoader object at \u001B[0m\u001B[1;36m0x0000017A0C62A580\u001B[0m\u001B[39m>,\u001B[0m\n\u001B[39m    \u001B[0m\u001B[32m'test_loader'\u001B[0m\u001B[39m: <torch.utils.data.dataloader.DataLoader object at \u001B[0m\u001B[1;36m0x0000017A0C62A6A0\u001B[0m\u001B[1m>\u001B[0m,\n    \u001B[32m'NUM_TRAIN_PERIODS'\u001B[0m: \u001B[1;36m3293\u001B[0m,\n    \u001B[32m'NUM_VAL_PERIODS'\u001B[0m: \u001B[1;36m1130\u001B[0m,\n    \u001B[32m'NUM_TEST_PERIODS'\u001B[0m: \u001B[1;36m1131\u001B[0m,\n    \u001B[32m'NUM_ASSETS'\u001B[0m: \u001B[1;36m26\u001B[0m,\n    \u001B[32m'NUM_FEATURES_AUGMENTED'\u001B[0m: \u001B[1;36m1430\u001B[0m,\n    \u001B[32m'NUM_FEATURES_ORIGINAL'\u001B[0m: \u001B[1;36m143\u001B[0m,\n    \u001B[32m'WINDOW_SIZE'\u001B[0m: \u001B[1;36m10\u001B[0m\n\u001B[1m}\u001B[0m\n",
      "text/html": "<pre style=\"white-space:pre;overflow-x:auto;line-height:normal;font-family:Menlo,'DejaVu Sans Mono',consolas,'Courier New',monospace\"><span style=\"font-weight: bold\">{</span>\n    <span style=\"color: #008000; text-decoration-color: #008000\">'train_loader'</span>: <span style=\"font-weight: bold\">&lt;</span><span style=\"color: #ff00ff; text-decoration-color: #ff00ff; font-weight: bold\">torch.utils.data.dataloader.DataLoader</span><span style=\"color: #000000; text-decoration-color: #000000\"> object at </span><span style=\"color: #008080; text-decoration-color: #008080; font-weight: bold\">0x0000017A0C62A310</span><span style=\"color: #000000; text-decoration-color: #000000\">&gt;,</span>\n<span style=\"color: #000000; text-decoration-color: #000000\">    </span><span style=\"color: #008000; text-decoration-color: #008000\">'val_loader'</span><span style=\"color: #000000; text-decoration-color: #000000\">: &lt;torch.utils.data.dataloader.DataLoader object at </span><span style=\"color: #008080; text-decoration-color: #008080; font-weight: bold\">0x0000017A0C62A580</span><span style=\"color: #000000; text-decoration-color: #000000\">&gt;,</span>\n<span style=\"color: #000000; text-decoration-color: #000000\">    </span><span style=\"color: #008000; text-decoration-color: #008000\">'test_loader'</span><span style=\"color: #000000; text-decoration-color: #000000\">: &lt;torch.utils.data.dataloader.DataLoader object at </span><span style=\"color: #008080; text-decoration-color: #008080; font-weight: bold\">0x0000017A0C62A6A0</span><span style=\"font-weight: bold\">&gt;</span>,\n    <span style=\"color: #008000; text-decoration-color: #008000\">'NUM_TRAIN_PERIODS'</span>: <span style=\"color: #008080; text-decoration-color: #008080; font-weight: bold\">3293</span>,\n    <span style=\"color: #008000; text-decoration-color: #008000\">'NUM_VAL_PERIODS'</span>: <span style=\"color: #008080; text-decoration-color: #008080; font-weight: bold\">1130</span>,\n    <span style=\"color: #008000; text-decoration-color: #008000\">'NUM_TEST_PERIODS'</span>: <span style=\"color: #008080; text-decoration-color: #008080; font-weight: bold\">1131</span>,\n    <span style=\"color: #008000; text-decoration-color: #008000\">'NUM_ASSETS'</span>: <span style=\"color: #008080; text-decoration-color: #008080; font-weight: bold\">26</span>,\n    <span style=\"color: #008000; text-decoration-color: #008000\">'NUM_FEATURES_AUGMENTED'</span>: <span style=\"color: #008080; text-decoration-color: #008080; font-weight: bold\">1430</span>,\n    <span style=\"color: #008000; text-decoration-color: #008000\">'NUM_FEATURES_ORIGINAL'</span>: <span style=\"color: #008080; text-decoration-color: #008080; font-weight: bold\">143</span>,\n    <span style=\"color: #008000; text-decoration-color: #008000\">'WINDOW_SIZE'</span>: <span style=\"color: #008080; text-decoration-color: #008080; font-weight: bold\">10</span>\n<span style=\"font-weight: bold\">}</span>\n</pre>\n"
     },
     "metadata": {},
     "output_type": "display_data"
    },
    {
     "name": "stderr",
     "output_type": "stream",
     "text": [
      "Training: 100%|██████████| 1/1 [00:03<00:00,  3.62s/it]\n"
     ]
    }
   ],
   "source": [
    "from finol.optimization_layer.model_trainer import *\n",
    "train_model_output = train_model(load_dataset_output)"
   ],
   "metadata": {
    "collapsed": false,
    "pycharm": {
     "name": "#%%\n"
    }
   }
  },
  {
   "cell_type": "code",
   "execution_count": null,
   "outputs": [],
   "source": [
    "from finol.evaluation_layer.model_evaluator import *\n",
    "evaluate_model_output = evaluate_model(load_dataset_output, train_model_output)"
   ],
   "metadata": {
    "collapsed": false,
    "pycharm": {
     "name": "#%%\n",
     "is_executing": true
    }
   }
  },
  {
   "cell_type": "markdown",
   "source": [],
   "metadata": {
    "collapsed": false
   }
  },
  {
   "cell_type": "markdown",
   "source": [],
   "metadata": {
    "collapsed": false
   }
  }
 ],
 "metadata": {
  "kernelspec": {
   "display_name": "Python 3",
   "language": "python",
   "name": "python3"
  },
  "language_info": {
   "codemirror_mode": {
    "name": "ipython",
    "version": 2
   },
   "file_extension": ".py",
   "mimetype": "text/x-python",
   "name": "python",
   "nbconvert_exporter": "python",
   "pygments_lexer": "ipython2",
   "version": "2.7.6"
  }
 },
 "nbformat": 4,
 "nbformat_minor": 0
}