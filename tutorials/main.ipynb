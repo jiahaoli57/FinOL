{
 "cells": [
  {
   "cell_type": "code",
   "execution_count": 9,
   "metadata": {
    "collapsed": true
   },
   "outputs": [
    {
     "name": "stderr",
     "output_type": "stream",
     "text": [
      "Data Loading: 100%|██████████| 48/48 [00:04<00:00, 10.17it/s]\n"
     ]
    },
    {
     "data": {
      "text/plain": "Successfully loaded \u001B[1;36m48\u001B[0m Excel \u001B[1;35mfile\u001B[0m\u001B[1m(\u001B[0ms\u001B[1m)\u001B[0m:\n",
      "text/html": "<pre style=\"white-space:pre;overflow-x:auto;line-height:normal;font-family:Menlo,'DejaVu Sans Mono',consolas,'Courier New',monospace\">Successfully loaded <span style=\"color: #008080; text-decoration-color: #008080; font-weight: bold\">48</span> Excel <span style=\"color: #800080; text-decoration-color: #800080; font-weight: bold\">file</span><span style=\"font-weight: bold\">(</span>s<span style=\"font-weight: bold\">)</span>:\n</pre>\n"
     },
     "metadata": {},
     "output_type": "display_data"
    },
    {
     "name": "stderr",
     "output_type": "stream",
     "text": [
      "Data Processing: 100%|██████████| 48/48 [00:03<00:00, 12.13it/s]\n"
     ]
    },
    {
     "data": {
      "text/plain": "{'train_loader': <torch.utils.data.dataloader.DataLoader at 0x256f25b9070>,\n 'val_loader': <torch.utils.data.dataloader.DataLoader at 0x256f88dfaf0>,\n 'test_loader': <torch.utils.data.dataloader.DataLoader at 0x2568242d400>,\n 'NUM_TRAIN_PERIODS': 591,\n 'NUM_VAL_PERIODS': 200,\n 'NUM_TEST_PERIODS': 201,\n 'NUM_ASSETS': 48,\n 'NUM_FEATURES_AUGMENTED': 50,\n 'NUM_FEATURES_ORIGINAL': 5,\n 'WINDOW_SIZE': 10}"
     },
     "execution_count": 9,
     "metadata": {},
     "output_type": "execute_result"
    }
   ],
   "source": [
    "from finol.data_layer.data_loader import *\n",
    "load_dataset_output = load_dataset()\n",
    "load_dataset_output"
   ]
  },
  {
   "cell_type": "code",
   "execution_count": 12,
   "outputs": [
    {
     "ename": "FileExistsError",
     "evalue": "[WinError 183] 当文件已存在时，无法创建该文件。: 'D:\\\\360安全云盘同步版\\\\01-广工\\\\07-研一\\\\00-论文\\\\00-本人论文\\\\13-FinOL\\\\FinOL\\\\finol/evaluation_layer/logdir/2024-03-17_14-09-27'",
     "output_type": "error",
     "traceback": [
      "\u001B[1;31m---------------------------------------------------------------------------\u001B[0m",
      "\u001B[1;31mFileExistsError\u001B[0m                           Traceback (most recent call last)",
      "Cell \u001B[1;32mIn[12], line 2\u001B[0m\n\u001B[0;32m      1\u001B[0m \u001B[38;5;28;01mfrom\u001B[39;00m \u001B[38;5;21;01mfinol\u001B[39;00m\u001B[38;5;21;01m.\u001B[39;00m\u001B[38;5;21;01moptimization_layer\u001B[39;00m\u001B[38;5;21;01m.\u001B[39;00m\u001B[38;5;21;01mmodel_trainer\u001B[39;00m \u001B[38;5;28;01mimport\u001B[39;00m \u001B[38;5;241m*\u001B[39m\n\u001B[1;32m----> 2\u001B[0m train_model_output \u001B[38;5;241m=\u001B[39m \u001B[43mtrain_model\u001B[49m\u001B[43m(\u001B[49m\u001B[43mload_dataset_output\u001B[49m\u001B[43m)\u001B[49m\n",
      "File \u001B[1;32mD:\\360安全云盘同步版\\01-广工\\07-研一\\00-论文\\00-本人论文\\13-FinOL\\FinOL\\finol\\optimization_layer\\model_trainer.py:95\u001B[0m, in \u001B[0;36mtrain_model\u001B[1;34m(load_dataset_output)\u001B[0m\n\u001B[0;32m     93\u001B[0m \u001B[38;5;28;01mdef\u001B[39;00m \u001B[38;5;21mtrain_model\u001B[39m(load_dataset_output):\n\u001B[0;32m     94\u001B[0m     torch\u001B[38;5;241m.\u001B[39mmanual_seed(\u001B[38;5;241m42\u001B[39m)\n\u001B[1;32m---> 95\u001B[0m     \u001B[43mos\u001B[49m\u001B[38;5;241;43m.\u001B[39;49m\u001B[43mmkdir\u001B[49m\u001B[43m(\u001B[49m\u001B[43mlogdir\u001B[49m\u001B[43m)\u001B[49m\n\u001B[0;32m     96\u001B[0m     copy2(ROOT_PATH \u001B[38;5;241m+\u001B[39m \u001B[38;5;124m'\u001B[39m\u001B[38;5;124m/config.py\u001B[39m\u001B[38;5;124m'\u001B[39m, logdir)\n\u001B[0;32m     98\u001B[0m     \u001B[38;5;28mprint\u001B[39m(\n\u001B[0;32m     99\u001B[0m         load_dataset_output\n\u001B[0;32m    100\u001B[0m     )\n",
      "\u001B[1;31mFileExistsError\u001B[0m: [WinError 183] 当文件已存在时，无法创建该文件。: 'D:\\\\360安全云盘同步版\\\\01-广工\\\\07-研一\\\\00-论文\\\\00-本人论文\\\\13-FinOL\\\\FinOL\\\\finol/evaluation_layer/logdir/2024-03-17_14-09-27'"
     ]
    }
   ],
   "source": [
    "from finol.optimization_layer.model_trainer import *\n",
    "train_model_output = train_model(load_dataset_output)"
   ],
   "metadata": {
    "collapsed": false,
    "pycharm": {
     "name": "#%%\n"
    }
   }
  },
  {
   "cell_type": "code",
   "execution_count": null,
   "outputs": [],
   "source": [
    "from finol.evaluation_layer.model_evaluator import *\n",
    "evaluate_model_output = evaluate_model(load_dataset_output, train_model_output)"
   ],
   "metadata": {
    "collapsed": false,
    "pycharm": {
     "name": "#%%\n"
    }
   }
  },
  {
   "cell_type": "markdown",
   "source": [],
   "metadata": {
    "collapsed": false
   }
  },
  {
   "cell_type": "markdown",
   "source": [],
   "metadata": {
    "collapsed": false
   }
  }
 ],
 "metadata": {
  "kernelspec": {
   "display_name": "Python 3",
   "language": "python",
   "name": "python3"
  },
  "language_info": {
   "codemirror_mode": {
    "name": "ipython",
    "version": 2
   },
   "file_extension": ".py",
   "mimetype": "text/x-python",
   "name": "python",
   "nbconvert_exporter": "python",
   "pygments_lexer": "ipython2",
   "version": "2.7.6"
  }
 },
 "nbformat": 4,
 "nbformat_minor": 0
}