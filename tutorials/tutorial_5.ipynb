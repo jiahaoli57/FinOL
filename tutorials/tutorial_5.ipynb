{
 "cells": [
  {
   "cell_type": "code",
   "execution_count": null,
   "outputs": [],
   "source": [
    "import re\n",
    "from finol.data_layer.data_loader import *\n",
    "from finol.optimization_layer.model_trainer import *\n",
    "from finol.evaluation_layer.model_evaluator import *\n",
    "from finol.config import *\n",
    "\n",
    "with open(ROOT_PATH + '\\config.py', 'r') as file:\n",
    "    content = file.read()\n",
    "\n",
    "content = re.sub(r'(TUTORIAL_MODE\\s*=\\s*).*', r'\\g<1>True', content)\n",
    "content = re.sub(r'(TUTORIAL_NAME\\s*=\\s*\").*?(\")', r'\\g<1>' + \"TUTORIAL_5\" + r'\\g<2>', content)\n",
    "\n",
    "with open(ROOT_PATH + '/config.py', 'w') as file:\n",
    "    file.write(content)"
   ],
   "metadata": {
    "collapsed": false,
    "pycharm": {
     "name": "#%%\n",
     "is_executing": true
    }
   }
  },
  {
   "cell_type": "code",
   "execution_count": null,
   "outputs": [],
   "source": [
    "print('start')\n",
    "load_dataset_output = load_dataset()\n",
    "train_model_output = {\n",
    "    \"last_model\": None,\n",
    "    \"best_model\": None,\n",
    "    \"logdir\": ROOT_PATH + '/evaluation_layer/2024-03-10_17-50-53'\n",
    "}\n",
    "evaluate_model(load_dataset_output, train_model_output)"
   ],
   "metadata": {
    "collapsed": false,
    "pycharm": {
     "name": "#%%\n"
    }
   }
  },
  {
   "cell_type": "code",
   "execution_count": null,
   "outputs": [],
   "source": [
    "load_dataset_output = load_dataset()\n",
    "print(load_dataset_output)\n",
    "train_model_output = train_model(load_dataset_output)\n",
    "evaluate_model(load_dataset_output, train_model_output)"
   ],
   "metadata": {
    "collapsed": false,
    "pycharm": {
     "name": "#%%\n"
    }
   }
  },
  {
   "cell_type": "code",
   "execution_count": null,
   "outputs": [],
   "source": [
    "load_dataset_output = load_dataset()\n",
    "print(load_dataset_output)\n",
    "train_model_output = train_model(load_dataset_output)\n",
    "evaluate_model(load_dataset_output, train_model_output)"
   ],
   "metadata": {
    "collapsed": false,
    "pycharm": {
     "name": "#%%\n"
    }
   }
  },
  {
   "cell_type": "code",
   "execution_count": null,
   "outputs": [],
   "source": [
    "print('start')\n",
    "# load_dataset_output = load_dataset()\n",
    "train_model_output = {\n",
    "    \"last_model\": None,\n",
    "    \"best_model\": None,\n",
    "    \"logdir\": ROOT_PATH + '/evaluation_layer/2024-03-11_17-19-17'\n",
    "}\n",
    "evaluate_model(load_dataset_output, train_model_output)"
   ],
   "metadata": {
    "collapsed": false,
    "pycharm": {
     "name": "#%%\n"
    }
   }
  },
  {
   "cell_type": "code",
   "execution_count": null,
   "outputs": [],
   "source": [],
   "metadata": {
    "collapsed": false,
    "pycharm": {
     "name": "#%%\n"
    }
   }
  },
  {
   "cell_type": "code",
   "execution_count": null,
   "outputs": [],
   "source": [],
   "metadata": {
    "collapsed": false,
    "pycharm": {
     "name": "#%%\n"
    }
   }
  }
 ],
 "metadata": {
  "kernelspec": {
   "display_name": "Python 3",
   "language": "python",
   "name": "python3"
  },
  "language_info": {
   "codemirror_mode": {
    "name": "ipython",
    "version": 2
   },
   "file_extension": ".py",
   "mimetype": "text/x-python",
   "name": "python",
   "nbconvert_exporter": "python",
   "pygments_lexer": "ipython2",
   "version": "2.7.6"
  }
 },
 "nbformat": 4,
 "nbformat_minor": 0
}