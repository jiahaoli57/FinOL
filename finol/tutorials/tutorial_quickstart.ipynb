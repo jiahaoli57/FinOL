{
 "cells": [
  {
   "cell_type": "markdown",
   "metadata": {
    "collapsed": true,
    "pycharm": {
     "name": "#%% md\n"
    }
   },
   "source": [
    "# A Quick Introduction to FinOL\n",
    "\n",
    "This Jupyter notebook goes through the basic usage of ``FinOL``.\n",
    "\n",
    "- Install ``FinOL``\n",
    "- Complete the whole data-training-testing process involves\n",
    "  - Read train/valid/test data\n",
    "  - Define and optimize model\n",
    "  - Evaluate model"
   ]
  },
  {
   "cell_type": "markdown",
   "source": [
    "## Install FinOL and additional dependencies\n",
    "\n",
    "``FinOL`` can be installed via `pip` or from the master branch of Git repository.\n",
    "Most of the dependencies required by ``FinOL`` are automatically installed when using\n",
    " the provided pyproject.toml file. HHowever, specific dependencies like ``TA-Lib``\n",
    " require separate installation as it is a library with C/C++ bindings.\n",
    "\n",
    "In the code snippet below, you can see the method to install ``TA-Lib`` in a Colab environment.\n",
    "For users running ``FinOL`` on Windows, Linux, or Mac, please refer to our official documentation for\n",
    "detailed installation instructions. The documentation outlines how to install ``FinOL`` completely, including ``TA-Lib``."
   ],
   "metadata": {
    "collapsed": false,
    "pycharm": {
     "name": "#%% md\n"
    }
   }
  },
  {
   "cell_type": "code",
   "execution_count": 1,
   "outputs": [],
   "source": [
    "# install finol and most dependencies\n",
    "!pip install finol\n",
    "!pip show finol"
   ],
   "metadata": {
    "collapsed": false,
    "pycharm": {
     "name": "#%%\n"
    }
   }
  },
  {
   "cell_type": "code",
   "execution_count": null,
   "outputs": [],
   "source": [
    "# install ta-lib\n",
    "!wget http://prdownloads.sourceforge.net/ta-lib/ta-lib-0.4.0-src.tar.gz\n",
    "!tar xvzf ta-lib-0.4.0-src.tar.gz\n",
    "import os\n",
    "os.chdir('ta-lib')\n",
    "!./configure --prefix=/usr\n",
    "!make\n",
    "!sudo make install\n",
    "os.chdir('../')\n",
    "!pip install TA-Lib"
   ],
   "metadata": {
    "collapsed": false,
    "pycharm": {
     "name": "#%%\n"
    }
   }
  },
  {
   "cell_type": "code",
   "execution_count": 1,
   "outputs": [
    {
     "data": {
      "text/plain": "'0.2.1'"
     },
     "execution_count": 1,
     "metadata": {},
     "output_type": "execute_result"
    }
   ],
   "source": [
    "import finol\n",
    "\n",
    "finol.__version__"
   ],
   "metadata": {
    "collapsed": false,
    "pycharm": {
     "name": "#%%\n"
    }
   }
  },
  {
   "cell_type": "markdown",
   "source": [
    "## Command Line Usage\n",
    "\n",
    "Before running the above commands, users can first configure some parameters through the config file to customize the usage according to their needs. For example, setting the device, selecting a dataset, adjusting the data pre-processing parameters, and choosing a model, etc. The specific configuration method is as follows:"
   ],
   "metadata": {
    "collapsed": false,
    "pycharm": {
     "name": "#%% md\n"
    }
   }
  },
  {
   "cell_type": "code",
   "execution_count": 2,
   "outputs": [
    {
     "name": "stdout",
     "output_type": "stream",
     "text": [
      "ROOT_PATH: D:\\360安全云盘同步版\\01-广工\\07-研一\\00-论文\\00-本人论文\\13-FinOL\\FinOL\\finol\n",
      "PARENT_PATH: D:\\360安全云盘同步版\\01-广工\\07-研一\\00-论文\\00-本人论文\\13-FinOL\\FinOL\n"
     ]
    },
    {
     "data": {
      "text/plain": "{'_note1': '--------------------------------------- General Configuration ------------------------------------------',\n 'DEVICE': 'auto',\n 'MANUAL_SEED': 0,\n '_note2': '-------------------------------------- Data Layer Configuration ----------------------------------------',\n 'LOAD_LOCAL_DATALOADER': True,\n 'DATASET_NAME': 'DJIA',\n 'DATASET_SPLIT_CONFIG': {'NYSE(O)': {'TRAIN_START_TIMESTAMP': '1962-07-03',\n   'TRAIN_END_TIMESTAMP': '1976-01-21',\n   'VAL_START_TIMESTAMP': '1976-01-22',\n   'VAL_END_TIMESTAMP': '1980-07-11',\n   'TEST_START_TIMESTAMP': '1980-07-14',\n   'TEST_END_TIMESTAMP': '1984-12-31'},\n  'NYSE(N)': {'TRAIN_START_TIMESTAMP': '1985-01-02',\n   'TRAIN_END_TIMESTAMP': '2000-04-06',\n   'VAL_START_TIMESTAMP': '2000-04-07',\n   'VAL_END_TIMESTAMP': '2005-05-20',\n   'TEST_START_TIMESTAMP': '2005-05-23',\n   'TEST_END_TIMESTAMP': '2010-06-30'},\n  'DJIA': {'TRAIN_START_TIMESTAMP': '2001-01-14',\n   'TRAIN_END_TIMESTAMP': '2002-04-01',\n   'VAL_START_TIMESTAMP': '2002-04-02',\n   'VAL_END_TIMESTAMP': '2002-08-21',\n   'TEST_START_TIMESTAMP': '2002-08-22',\n   'TEST_END_TIMESTAMP': '2003-01-14'},\n  'SP500': {'TRAIN_START_TIMESTAMP': '1998-01-02',\n   'TRAIN_END_TIMESTAMP': '2001-01-12',\n   'VAL_START_TIMESTAMP': '2001-01-16',\n   'VAL_END_TIMESTAMP': '2002-01-25',\n   'TEST_START_TIMESTAMP': '2002-01-28',\n   'TEST_END_TIMESTAMP': '2003-01-31'},\n  'TSE': {'TRAIN_START_TIMESTAMP': '1995-01-12',\n   'TRAIN_END_TIMESTAMP': '1997-05-28',\n   'VAL_START_TIMESTAMP': '1997-05-29',\n   'VAL_END_TIMESTAMP': '1998-03-13',\n   'TEST_START_TIMESTAMP': '1998-03-16',\n   'TEST_END_TIMESTAMP': '1998-12-31'},\n  'SSE': {'TRAIN_START_TIMESTAMP': '2010-07-05',\n   'TRAIN_END_TIMESTAMP': '2018-04-09',\n   'VAL_START_TIMESTAMP': '2018-04-16',\n   'VAL_END_TIMESTAMP': '2020-11-16',\n   'TEST_START_TIMESTAMP': '2020-11-23',\n   'TEST_END_TIMESTAMP': '2023-06-26'},\n  'HSI': {'TRAIN_START_TIMESTAMP': '2010-07-05',\n   'TRAIN_END_TIMESTAMP': '2018-04-09',\n   'VAL_START_TIMESTAMP': '2018-04-16',\n   'VAL_END_TIMESTAMP': '2020-11-16',\n   'TEST_START_TIMESTAMP': '2020-11-23',\n   'TEST_END_TIMESTAMP': '2023-06-26'},\n  'CMEG': {'TRAIN_START_TIMESTAMP': '2010-07-05',\n   'TRAIN_END_TIMESTAMP': '2018-04-09',\n   'VAL_START_TIMESTAMP': '2018-04-16',\n   'VAL_END_TIMESTAMP': '2020-11-16',\n   'TEST_START_TIMESTAMP': '2020-11-23',\n   'TEST_END_TIMESTAMP': '2023-06-26'},\n  'CRYPTO': {'TRAIN_START_TIMESTAMP': '2017-11-09',\n   'TRAIN_END_TIMESTAMP': '2021-08-22',\n   'VAL_START_TIMESTAMP': '2021-08-23',\n   'VAL_END_TIMESTAMP': '2022-11-26',\n   'TEST_START_TIMESTAMP': '2022-11-27',\n   'TEST_END_TIMESTAMP': '2024-03-01'}},\n 'FEATURE_ENGINEERING_CONFIG': {'INCLUDE_OHLCV_FEATURES': True,\n  'INCLUDE_OVERLAP_FEATURES': True,\n  'INCLUDE_MOMENTUM_FEATURES': True,\n  'INCLUDE_VOLUME_FEATURES': True,\n  'INCLUDE_CYCLE_FEATURES': True,\n  'INCLUDE_PRICE_FEATURES': True,\n  'INCLUDE_VOLATILITY_FEATURES': False,\n  'INCLUDE_PATTERN_FEATURES': False},\n 'DATA_AUGMENTATION_CONFIG': {'WINDOW_DATA': {'INCLUDE_WINDOW_DATA': True,\n   'WINDOW_SIZE': 15}},\n 'SCALER': 'WindowMinMaxScaler',\n 'BATCH_SIZE': {'NYSE(O)': 128,\n  'NYSE(N)': 128,\n  'DJIA': 64,\n  'SP500': 64,\n  'TSE': 64,\n  'SSE': 64,\n  'HSI': 64,\n  'CMEG': 64,\n  'CRYPTO': 128},\n 'NUM_DAYS_PER_YEAR': {'NYSE(O)': 252,\n  'NYSE(N)': 252,\n  'DJIA': 252,\n  'SP500': 252,\n  'TSE': 252,\n  'SSE': 52,\n  'HSI': 52,\n  'CMEG': 52,\n  'CRYPTO': 252},\n '_note3': '-------------------------------------- Model Layer Configuration ---------------------------------------',\n 'MODEL_NAME': 'DNN',\n 'MODEL_PARAMS': {'AlphaPortfolio': {'NUM_LAYERS': 4,\n   'DIM_EMBEDDING': 128,\n   'DIM_FEEDFORWARD': 128,\n   'NUM_HEADS': 4,\n   'DROPOUT': 0.5},\n  'CNN': {'OUT_CHANNELS': 64,\n   'KERNEL_SIZE': 3,\n   'STRIDE': 1,\n   'HIDDEN_SIZE': 32,\n   'DROPOUT': 0.2},\n  'DNN': {'NUM_LAYERS': 3, 'HIDDEN_SIZE': 96, 'DROPOUT': 0.1},\n  'LSRE-CAAN': {'NUM_LAYERS': 6,\n   'NUM_LATENTS': 12,\n   'LATENT_DIM': 128,\n   'CROSS_HEADS': 4,\n   'LATENT_HEADS': 4,\n   'CROSS_DIM_HEAD': 64,\n   'LATENT_DIM_HEAD': 64,\n   'DROPOUT': 0.1},\n  'LSTM': {'NUM_LAYERS': 2, 'HIDDEN_SIZE': 256, 'DROPOUT': 0.0},\n  'RNN': {'NUM_LAYERS': 3, 'HIDDEN_SIZE': 224, 'DROPOUT': 0.0},\n  'Transformer': {'NUM_LAYERS': 6,\n   'DIM_EMBEDDING': 256,\n   'DIM_FEEDFORWARD': 128,\n   'NUM_HEADS': 1,\n   'DROPOUT': 0.05},\n  'CustomModel': {'PARAMETER1': 4, 'PARAMETER2': 128}},\n 'MODEL_PARAMS_SPACE': {'AlphaPortfolio': {'NUM_LAYERS': {'type': 'int',\n    'range': [1, 4],\n    'step': 1},\n   'DIM_EMBEDDING': {'type': 'int', 'range': [32, 256], 'step': 32},\n   'DIM_FEEDFORWARD': {'type': 'int', 'range': [32, 256], 'step': 32},\n   'NUM_HEADS': {'type': 'int', 'range': [1, 1], 'step': 1},\n   'DROPOUT': {'type': 'float', 'range': [0, 0.5], 'step': 0.05}},\n  'DNN': {'NUM_LAYERS': {'type': 'int', 'range': [1, 4], 'step': 1},\n   'HIDDEN_SIZE': {'type': 'int', 'range': [32, 256], 'step': 32},\n   'DROPOUT': {'type': 'float', 'range': [0, 0.5], 'step': 0.05}},\n  'LSRE-CAAN': {'NUM_LAYERS': {'type': 'int', 'range': [1, 4], 'step': 1},\n   'NUM_LATENTS': {'type': 'int', 'range': [1, 12], 'step': 1},\n   'LATENT_DIM': {'type': 'int', 'range': [32, 256], 'step': 32},\n   'CROSS_HEADS': {'type': 'int', 'range': [1, 4], 'step': 1},\n   'LATENT_HEADS': {'type': 'int', 'range': [1, 4], 'step': 1},\n   'CROSS_DIM_HEAD': {'type': 'int', 'range': [32, 256], 'step': 32},\n   'LATENT_DIM_HEAD': {'type': 'int', 'range': [32, 256], 'step': 32},\n   'DROPOUT': {'type': 'float', 'range': [0, 0.5], 'step': 0.05}},\n  'LSRE-CAAN-d': {'NUM_LAYERS': {'type': 'int', 'range': [1, 4], 'step': 1},\n   'NUM_LATENTS': {'type': 'int', 'range': [1, 12], 'step': 1},\n   'LATENT_DIM': {'type': 'int', 'range': [32, 256], 'step': 32},\n   'CROSS_HEADS': {'type': 'int', 'range': [1, 4], 'step': 1},\n   'LATENT_HEADS': {'type': 'int', 'range': [1, 4], 'step': 1},\n   'CROSS_DIM_HEAD': {'type': 'int', 'range': [32, 256], 'step': 32},\n   'LATENT_DIM_HEAD': {'type': 'int', 'range': [32, 256], 'step': 32},\n   'DROPOUT': {'type': 'float', 'range': [0, 0.5], 'step': 0.05}},\n  'LSRE-CAAN-dd': {'NUM_LAYERS': {'type': 'int', 'range': [1, 4], 'step': 1},\n   'NUM_LATENTS': {'type': 'int', 'range': [1, 12], 'step': 1},\n   'LATENT_DIM': {'type': 'int', 'range': [32, 256], 'step': 32},\n   'CROSS_HEADS': {'type': 'int', 'range': [1, 4], 'step': 1},\n   'LATENT_HEADS': {'type': 'int', 'range': [1, 4], 'step': 1},\n   'CROSS_DIM_HEAD': {'type': 'int', 'range': [32, 256], 'step': 32},\n   'LATENT_DIM_HEAD': {'type': 'int', 'range': [32, 256], 'step': 32},\n   'DROPOUT': {'type': 'float', 'range': [0, 0.5], 'step': 0.05}},\n  'LSTM': {'NUM_LAYERS': {'type': 'int', 'range': [1, 4], 'step': 1},\n   'HIDDEN_SIZE': {'type': 'int', 'range': [32, 256], 'step': 32},\n   'DROPOUT': {'type': 'float', 'range': [0, 0.5], 'step': 0.05}},\n  'RNN': {'NUM_LAYERS': {'type': 'int', 'range': [1, 4], 'step': 1},\n   'HIDDEN_SIZE': {'type': 'int', 'range': [32, 256], 'step': 32},\n   'DROPOUT': {'type': 'float', 'range': [0, 0.5], 'step': 0.05}},\n  'Transformer': {'NUM_LAYERS': {'type': 'int', 'range': [1, 4], 'step': 1},\n   'DIM_EMBEDDING': {'type': 'int', 'range': [32, 256], 'step': 32},\n   'DIM_FEEDFORWARD': {'type': 'int', 'range': [32, 256], 'step': 32},\n   'NUM_HEADS': {'type': 'int', 'range': [1, 1], 'step': 1},\n   'DROPOUT': {'type': 'float', 'range': [0, 0.5], 'step': 0.05}}},\n '_note4': '----------------------------------- Optimization Layer Configuration -----------------------------------',\n 'NUM_EPOCHES': 100,\n 'SAVE_EVERY': 2,\n 'OPTIMIZER_NAME': 'RAdam',\n 'LEARNING_RATE': 0.001,\n 'CRITERION_NAME': 'LogWealth',\n 'LAMBDA_L2': 0.005,\n 'TUNE_PARAMETERS': True,\n 'NUM_TRIALS': 20,\n 'SAMPLER_NAME': 'QMCSampler',\n 'PRUNER_NAME': 'PatientPruner',\n 'WRAPPED_PRUNER_NAME': 'MedianPruner',\n 'PLOT_DYNAMIC_LOSS': True,\n '_note5': '------------------------------------ Evaluation Layer Configuration ------------------------------------',\n 'PLOT_LANGUAGE': 'en',\n 'PROP_WINNERS': 0.5,\n 'INTERPRETABLE_ANALYSIS_CONFIG': {'INCLUDE_INTERPRETABILITY_ANALYSIS': False,\n  'INCLUDE_ECONOMIC_DISTILLATION': False,\n  'PROP_DISTILLED_FEATURES': 0.7,\n  'DISTILLER_NAME': 'Lasso',\n  'Y_NAME': 'Portfolios'},\n 'MARKERS': ['o', '^', '<', '>', 's', 'p', 'h', 'H', 'D', 'd'],\n 'MARKEVERY': {'NYSE(O)': 50,\n  'NYSE(N)': 55,\n  'DJIA': 3,\n  'SP500': 7,\n  'TSE': 6,\n  'SSE': 4,\n  'HSI': 4,\n  'CMEG': 4,\n  'CRYPTO': 13}}"
     },
     "execution_count": 2,
     "metadata": {},
     "output_type": "execute_result"
    }
   ],
   "source": [
    "from finol.utils import load_config, update_config\n",
    "\n",
    "config = load_config()\n",
    "config[\"DEVICE\"] = \"auto\"\n",
    "config[\"DATASET_NAME\"] = \"DJIA\"\n",
    "config[\"DATA_AUGMENTATION_CONFIG\"][\"WINDOW_DATA\"][\"WINDOW_SIZE\"] = 15\n",
    "config[\"SCALER\"] = \"WindowMinMaxScaler\"\n",
    "config[\"MODEL_NAME\"] = \"DNN\"\n",
    "config[\"TUNE_PARAMETERS\"] = True  # False\n",
    "update_config(config)\n",
    "config"
   ],
   "metadata": {
    "collapsed": false,
    "pycharm": {
     "name": "#%%\n"
    }
   }
  },
  {
   "cell_type": "code",
   "execution_count": 4,
   "outputs": [
    {
     "name": "stdout",
     "output_type": "stream",
     "text": [
      "The current FinOL (version: 0.2.1) is latest\n",
      "Data downloading......\n"
     ]
    },
    {
     "name": "stderr",
     "output_type": "stream",
     "text": [
      "[I 2024-09-03 20:11:38,454] A new study created in RDB with name: no-name-cc48dde5-6dcf-4fc3-a888-3cb7de541bfc\n"
     ]
    },
    {
     "name": "stdout",
     "output_type": "stream",
     "text": [
      "Local dataloader loaded successfully!\n"
     ]
    },
    {
     "name": "stderr",
     "output_type": "stream",
     "text": [
      "Training: 100%|██████████| 100/100 [00:03<00:00, 31.98it/s]\n",
      "[I 2024-09-03 20:11:41,704] Trial 0 finished with value: -0.0021791304461658 and parameters: {'NUM_LAYERS': 3, 'HIDDEN_SIZE': 192, 'DROPOUT': 0.30000000000000004}. Best is trial 0 with value: -0.0021791304461658.\n",
      "Training: 100%|██████████| 100/100 [00:02<00:00, 38.76it/s]\n",
      "[I 2024-09-03 20:11:44,377] Trial 1 finished with value: -0.0021004830487072468 and parameters: {'NUM_LAYERS': 1, 'HIDDEN_SIZE': 32, 'DROPOUT': 0.0}. Best is trial 0 with value: -0.0021791304461658.\n",
      "Training: 100%|██████████| 100/100 [00:02<00:00, 34.18it/s]\n",
      "[I 2024-09-03 20:11:47,400] Trial 2 finished with value: -0.002233071136288345 and parameters: {'NUM_LAYERS': 3, 'HIDDEN_SIZE': 160, 'DROPOUT': 0.25}. Best is trial 2 with value: -0.002233071136288345.\n",
      "Training: 100%|██████████| 100/100 [00:02<00:00, 34.68it/s]\n",
      "[I 2024-09-03 20:11:50,371] Trial 3 finished with value: -0.0018093711696565151 and parameters: {'NUM_LAYERS': 3, 'HIDDEN_SIZE': 96, 'DROPOUT': 0.1}. Best is trial 2 with value: -0.002233071136288345.\n",
      "Training: 100%|██████████| 100/100 [00:02<00:00, 34.34it/s]\n",
      "[I 2024-09-03 20:11:53,375] Trial 4 finished with value: -0.002412565518170595 and parameters: {'NUM_LAYERS': 1, 'HIDDEN_SIZE': 224, 'DROPOUT': 0.4}. Best is trial 4 with value: -0.002412565518170595.\n",
      "Training: 100%|██████████| 100/100 [00:02<00:00, 35.97it/s]\n",
      "[I 2024-09-03 20:11:56,243] Trial 5 finished with value: -0.0022902042837813497 and parameters: {'NUM_LAYERS': 2, 'HIDDEN_SIZE': 96, 'DROPOUT': 0.30000000000000004}. Best is trial 4 with value: -0.002412565518170595.\n",
      "Training: 100%|██████████| 100/100 [00:03<00:00, 29.08it/s]\n",
      "[I 2024-09-03 20:11:59,778] Trial 6 finished with value: -0.004868218442425132 and parameters: {'NUM_LAYERS': 4, 'HIDDEN_SIZE': 224, 'DROPOUT': 0.05}. Best is trial 6 with value: -0.004868218442425132.\n",
      "Training:  49%|████▉     | 49/100 [00:01<00:01, 31.73it/s]\n",
      "[W 2024-09-03 20:12:01,401] Trial 7 failed with parameters: {'NUM_LAYERS': 3, 'HIDDEN_SIZE': 32, 'DROPOUT': 0.45} because of the following error: JSONDecodeError('Expecting value: line 1 column 1 (char 0)').\n",
      "Traceback (most recent call last):\n",
      "  File \"D:\\anaconda3\\envs\\FinOL\\lib\\site-packages\\optuna\\study\\_optimize.py\", line 196, in _run_trial\n",
      "    value_or_values = func(trial)\n",
      "  File \"D:\\360安全云盘同步版\\01-广工\\07-研一\\00-论文\\00-本人论文\\13-FinOL\\FinOL\\finol\\optimization_layer\\parameters_tuner.py\", line 85, in objective\n",
      "    final_scores = model(x_data.float())\n",
      "  File \"D:\\anaconda3\\envs\\FinOL\\lib\\site-packages\\torch\\nn\\modules\\module.py\", line 1511, in _wrapped_call_impl\n",
      "    return self._call_impl(*args, **kwargs)\n",
      "  File \"D:\\anaconda3\\envs\\FinOL\\lib\\site-packages\\torch\\nn\\modules\\module.py\", line 1520, in _call_impl\n",
      "    return forward_call(*args, **kwargs)\n",
      "  File \"D:\\360安全云盘同步版\\01-广工\\07-研一\\00-论文\\00-本人论文\\13-FinOL\\FinOL\\finol\\model_layer\\DNN.py\", line 88, in forward\n",
      "    x = ScalerSelector().window_normalize(x)\n",
      "  File \"D:\\360安全云盘同步版\\01-广工\\07-研一\\00-论文\\00-本人论文\\13-FinOL\\FinOL\\finol\\data_layer\\scaler_selector.py\", line 13, in __init__\n",
      "    self.config = load_config()\n",
      "  File \"D:\\360安全云盘同步版\\01-广工\\07-研一\\00-论文\\00-本人论文\\13-FinOL\\FinOL\\finol\\utils.py\", line 48, in load_config\n",
      "    config = json.load(f)\n",
      "  File \"D:\\anaconda3\\envs\\FinOL\\lib\\json\\__init__.py\", line 293, in load\n",
      "    return loads(fp.read(),\n",
      "  File \"D:\\anaconda3\\envs\\FinOL\\lib\\json\\__init__.py\", line 346, in loads\n",
      "    return _default_decoder.decode(s)\n",
      "  File \"D:\\anaconda3\\envs\\FinOL\\lib\\json\\decoder.py\", line 337, in decode\n",
      "    obj, end = self.raw_decode(s, idx=_w(s, 0).end())\n",
      "  File \"D:\\anaconda3\\envs\\FinOL\\lib\\json\\decoder.py\", line 355, in raw_decode\n",
      "    raise JSONDecodeError(\"Expecting value\", s, err.value) from None\n",
      "json.decoder.JSONDecodeError: Expecting value: line 1 column 1 (char 0)\n",
      "[W 2024-09-03 20:12:01,406] Trial 7 failed with value None.\n"
     ]
    },
    {
     "ename": "JSONDecodeError",
     "evalue": "Expecting value: line 1 column 1 (char 0)",
     "output_type": "error",
     "traceback": [
      "\u001B[1;31m---------------------------------------------------------------------------\u001B[0m",
      "\u001B[1;31mJSONDecodeError\u001B[0m                           Traceback (most recent call last)",
      "Cell \u001B[1;32mIn[4], line 7\u001B[0m\n\u001B[0;32m      3\u001B[0m \u001B[38;5;28;01mfrom\u001B[39;00m \u001B[38;5;21;01mfinol\u001B[39;00m\u001B[38;5;21;01m.\u001B[39;00m\u001B[38;5;21;01mevaluation_layer\u001B[39;00m\u001B[38;5;21;01m.\u001B[39;00m\u001B[38;5;21;01mmodel_evaluator\u001B[39;00m \u001B[38;5;28;01mimport\u001B[39;00m ModelEvaluator\n\u001B[0;32m      6\u001B[0m load_dataset_output \u001B[38;5;241m=\u001B[39m DatasetLoader()\u001B[38;5;241m.\u001B[39mload_dataset()\n\u001B[1;32m----> 7\u001B[0m train_model_output \u001B[38;5;241m=\u001B[39m \u001B[43mModelTrainer\u001B[49m\u001B[43m(\u001B[49m\u001B[43mload_dataset_output\u001B[49m\u001B[43m)\u001B[49m\u001B[38;5;241;43m.\u001B[39;49m\u001B[43mtrain_model\u001B[49m\u001B[43m(\u001B[49m\u001B[43m)\u001B[49m\n\u001B[0;32m      8\u001B[0m evaluate_model_output \u001B[38;5;241m=\u001B[39m ModelEvaluator(load_dataset_output, train_model_output)\u001B[38;5;241m.\u001B[39mevaluate_model()\n",
      "File \u001B[1;32mD:\\360安全云盘同步版\\01-广工\\07-研一\\00-论文\\00-本人论文\\13-FinOL\\FinOL\\finol\\optimization_layer\\model_trainer.py:98\u001B[0m, in \u001B[0;36mModelTrainer.train_model\u001B[1;34m(self)\u001B[0m\n\u001B[0;32m     88\u001B[0m \u001B[38;5;250m\u001B[39m\u001B[38;5;124;03m\"\"\"\u001B[39;00m\n\u001B[0;32m     89\u001B[0m \u001B[38;5;124;03mTrain the machine learning model using the specified dataset.\u001B[39;00m\n\u001B[0;32m     90\u001B[0m \n\u001B[1;32m   (...)\u001B[0m\n\u001B[0;32m     95\u001B[0m \u001B[38;5;124;03m:return: Dictionary containing the log directory for the trained model.\u001B[39;00m\n\u001B[0;32m     96\u001B[0m \u001B[38;5;124;03m\"\"\"\u001B[39;00m\n\u001B[0;32m     97\u001B[0m \u001B[38;5;28;01mif\u001B[39;00m \u001B[38;5;28mself\u001B[39m\u001B[38;5;241m.\u001B[39mconfig[\u001B[38;5;124m\"\u001B[39m\u001B[38;5;124mTUNE_PARAMETERS\u001B[39m\u001B[38;5;124m\"\u001B[39m]:\n\u001B[1;32m---> 98\u001B[0m     \u001B[43mParametersTuner\u001B[49m\u001B[43m(\u001B[49m\u001B[43mload_dataset_output\u001B[49m\u001B[38;5;241;43m=\u001B[39;49m\u001B[38;5;28;43mself\u001B[39;49m\u001B[38;5;241;43m.\u001B[39;49m\u001B[43mload_dataset_output\u001B[49m\u001B[43m)\u001B[49m\u001B[38;5;241;43m.\u001B[39;49m\u001B[43mtune_parameters\u001B[49m\u001B[43m(\u001B[49m\u001B[43m)\u001B[49m\n\u001B[0;32m     99\u001B[0m     \u001B[38;5;28;01mpass\u001B[39;00m\n\u001B[0;32m    101\u001B[0m set_seed(seed\u001B[38;5;241m=\u001B[39m\u001B[38;5;28mself\u001B[39m\u001B[38;5;241m.\u001B[39mconfig[\u001B[38;5;124m\"\u001B[39m\u001B[38;5;124mMANUAL_SEED\u001B[39m\u001B[38;5;124m\"\u001B[39m])\n",
      "File \u001B[1;32mD:\\360安全云盘同步版\\01-广工\\07-研一\\00-论文\\00-本人论文\\13-FinOL\\FinOL\\finol\\optimization_layer\\parameters_tuner.py:176\u001B[0m, in \u001B[0;36mParametersTuner.tune_parameters\u001B[1;34m(self)\u001B[0m\n\u001B[0;32m    169\u001B[0m \u001B[38;5;66;03m# Creating Optuna object and defining its parameters\u001B[39;00m\n\u001B[0;32m    170\u001B[0m \u001B[38;5;28mself\u001B[39m\u001B[38;5;241m.\u001B[39mstudy \u001B[38;5;241m=\u001B[39m optuna\u001B[38;5;241m.\u001B[39mcreate_study(\n\u001B[0;32m    171\u001B[0m     direction\u001B[38;5;241m=\u001B[39m\u001B[38;5;124m\"\u001B[39m\u001B[38;5;124mminimize\u001B[39m\u001B[38;5;124m\"\u001B[39m,\n\u001B[0;32m    172\u001B[0m     sampler\u001B[38;5;241m=\u001B[39m\u001B[38;5;28mself\u001B[39m\u001B[38;5;241m.\u001B[39mselect_sampler(),\n\u001B[0;32m    173\u001B[0m     pruner\u001B[38;5;241m=\u001B[39m\u001B[38;5;28mself\u001B[39m\u001B[38;5;241m.\u001B[39mselect_pruner(),\n\u001B[0;32m    174\u001B[0m     storage\u001B[38;5;241m=\u001B[39m\u001B[38;5;124m\"\u001B[39m\u001B[38;5;124msqlite:///\u001B[39m\u001B[38;5;124m\"\u001B[39m \u001B[38;5;241m+\u001B[39m \u001B[38;5;28mself\u001B[39m\u001B[38;5;241m.\u001B[39mlogdir \u001B[38;5;241m+\u001B[39m \u001B[38;5;124m\"\u001B[39m\u001B[38;5;124m/\u001B[39m\u001B[38;5;124m\"\u001B[39m \u001B[38;5;241m+\u001B[39m add_prefix(\u001B[38;5;124m\"\u001B[39m\u001B[38;5;124m.db\u001B[39m\u001B[38;5;124m\"\u001B[39m)\n\u001B[0;32m    175\u001B[0m )\n\u001B[1;32m--> 176\u001B[0m \u001B[38;5;28;43mself\u001B[39;49m\u001B[38;5;241;43m.\u001B[39;49m\u001B[43mstudy\u001B[49m\u001B[38;5;241;43m.\u001B[39;49m\u001B[43moptimize\u001B[49m\u001B[43m(\u001B[49m\u001B[38;5;28;43mself\u001B[39;49m\u001B[38;5;241;43m.\u001B[39;49m\u001B[43mobjective\u001B[49m\u001B[43m,\u001B[49m\u001B[43m \u001B[49m\u001B[43mn_trials\u001B[49m\u001B[38;5;241;43m=\u001B[39;49m\u001B[38;5;28;43mself\u001B[39;49m\u001B[38;5;241;43m.\u001B[39;49m\u001B[43mconfig\u001B[49m\u001B[43m[\u001B[49m\u001B[38;5;124;43m\"\u001B[39;49m\u001B[38;5;124;43mNUM_TRIALS\u001B[39;49m\u001B[38;5;124;43m\"\u001B[39;49m\u001B[43m]\u001B[49m\u001B[43m)\u001B[49m\n\u001B[0;32m    178\u001B[0m \u001B[38;5;66;03m# To further visualize the results, you can upload the generated {MODEL_NAME}.db file to the Optuna Dashboard:\u001B[39;00m\n\u001B[0;32m    179\u001B[0m \u001B[38;5;66;03m# https://optuna.github.io/optuna-dashboard/\u001B[39;00m\n\u001B[0;32m    180\u001B[0m \u001B[38;5;66;03m# optuna.visualization.plot_optimization_history(self.study).show()\u001B[39;00m\n\u001B[0;32m    181\u001B[0m plots \u001B[38;5;241m=\u001B[39m [\n\u001B[0;32m    182\u001B[0m     mpl\u001B[38;5;241m.\u001B[39mplot_contour,\n\u001B[0;32m    183\u001B[0m     mpl\u001B[38;5;241m.\u001B[39mplot_edf,\n\u001B[1;32m   (...)\u001B[0m\n\u001B[0;32m    193\u001B[0m     mpl\u001B[38;5;241m.\u001B[39mplot_timeline,\n\u001B[0;32m    194\u001B[0m ]\n",
      "File \u001B[1;32mD:\\anaconda3\\envs\\FinOL\\lib\\site-packages\\optuna\\study\\study.py:451\u001B[0m, in \u001B[0;36mStudy.optimize\u001B[1;34m(self, func, n_trials, timeout, n_jobs, catch, callbacks, gc_after_trial, show_progress_bar)\u001B[0m\n\u001B[0;32m    348\u001B[0m \u001B[38;5;28;01mdef\u001B[39;00m \u001B[38;5;21moptimize\u001B[39m(\n\u001B[0;32m    349\u001B[0m     \u001B[38;5;28mself\u001B[39m,\n\u001B[0;32m    350\u001B[0m     func: ObjectiveFuncType,\n\u001B[1;32m   (...)\u001B[0m\n\u001B[0;32m    357\u001B[0m     show_progress_bar: \u001B[38;5;28mbool\u001B[39m \u001B[38;5;241m=\u001B[39m \u001B[38;5;28;01mFalse\u001B[39;00m,\n\u001B[0;32m    358\u001B[0m ) \u001B[38;5;241m-\u001B[39m\u001B[38;5;241m>\u001B[39m \u001B[38;5;28;01mNone\u001B[39;00m:\n\u001B[0;32m    359\u001B[0m \u001B[38;5;250m    \u001B[39m\u001B[38;5;124;03m\"\"\"Optimize an objective function.\u001B[39;00m\n\u001B[0;32m    360\u001B[0m \n\u001B[0;32m    361\u001B[0m \u001B[38;5;124;03m    Optimization is done by choosing a suitable set of hyperparameter values from a given\u001B[39;00m\n\u001B[1;32m   (...)\u001B[0m\n\u001B[0;32m    449\u001B[0m \u001B[38;5;124;03m            If nested invocation of this method occurs.\u001B[39;00m\n\u001B[0;32m    450\u001B[0m \u001B[38;5;124;03m    \"\"\"\u001B[39;00m\n\u001B[1;32m--> 451\u001B[0m     \u001B[43m_optimize\u001B[49m\u001B[43m(\u001B[49m\n\u001B[0;32m    452\u001B[0m \u001B[43m        \u001B[49m\u001B[43mstudy\u001B[49m\u001B[38;5;241;43m=\u001B[39;49m\u001B[38;5;28;43mself\u001B[39;49m\u001B[43m,\u001B[49m\n\u001B[0;32m    453\u001B[0m \u001B[43m        \u001B[49m\u001B[43mfunc\u001B[49m\u001B[38;5;241;43m=\u001B[39;49m\u001B[43mfunc\u001B[49m\u001B[43m,\u001B[49m\n\u001B[0;32m    454\u001B[0m \u001B[43m        \u001B[49m\u001B[43mn_trials\u001B[49m\u001B[38;5;241;43m=\u001B[39;49m\u001B[43mn_trials\u001B[49m\u001B[43m,\u001B[49m\n\u001B[0;32m    455\u001B[0m \u001B[43m        \u001B[49m\u001B[43mtimeout\u001B[49m\u001B[38;5;241;43m=\u001B[39;49m\u001B[43mtimeout\u001B[49m\u001B[43m,\u001B[49m\n\u001B[0;32m    456\u001B[0m \u001B[43m        \u001B[49m\u001B[43mn_jobs\u001B[49m\u001B[38;5;241;43m=\u001B[39;49m\u001B[43mn_jobs\u001B[49m\u001B[43m,\u001B[49m\n\u001B[0;32m    457\u001B[0m \u001B[43m        \u001B[49m\u001B[43mcatch\u001B[49m\u001B[38;5;241;43m=\u001B[39;49m\u001B[38;5;28;43mtuple\u001B[39;49m\u001B[43m(\u001B[49m\u001B[43mcatch\u001B[49m\u001B[43m)\u001B[49m\u001B[43m \u001B[49m\u001B[38;5;28;43;01mif\u001B[39;49;00m\u001B[43m \u001B[49m\u001B[38;5;28;43misinstance\u001B[39;49m\u001B[43m(\u001B[49m\u001B[43mcatch\u001B[49m\u001B[43m,\u001B[49m\u001B[43m \u001B[49m\u001B[43mIterable\u001B[49m\u001B[43m)\u001B[49m\u001B[43m \u001B[49m\u001B[38;5;28;43;01melse\u001B[39;49;00m\u001B[43m \u001B[49m\u001B[43m(\u001B[49m\u001B[43mcatch\u001B[49m\u001B[43m,\u001B[49m\u001B[43m)\u001B[49m\u001B[43m,\u001B[49m\n\u001B[0;32m    458\u001B[0m \u001B[43m        \u001B[49m\u001B[43mcallbacks\u001B[49m\u001B[38;5;241;43m=\u001B[39;49m\u001B[43mcallbacks\u001B[49m\u001B[43m,\u001B[49m\n\u001B[0;32m    459\u001B[0m \u001B[43m        \u001B[49m\u001B[43mgc_after_trial\u001B[49m\u001B[38;5;241;43m=\u001B[39;49m\u001B[43mgc_after_trial\u001B[49m\u001B[43m,\u001B[49m\n\u001B[0;32m    460\u001B[0m \u001B[43m        \u001B[49m\u001B[43mshow_progress_bar\u001B[49m\u001B[38;5;241;43m=\u001B[39;49m\u001B[43mshow_progress_bar\u001B[49m\u001B[43m,\u001B[49m\n\u001B[0;32m    461\u001B[0m \u001B[43m    \u001B[49m\u001B[43m)\u001B[49m\n",
      "File \u001B[1;32mD:\\anaconda3\\envs\\FinOL\\lib\\site-packages\\optuna\\study\\_optimize.py:62\u001B[0m, in \u001B[0;36m_optimize\u001B[1;34m(study, func, n_trials, timeout, n_jobs, catch, callbacks, gc_after_trial, show_progress_bar)\u001B[0m\n\u001B[0;32m     60\u001B[0m \u001B[38;5;28;01mtry\u001B[39;00m:\n\u001B[0;32m     61\u001B[0m     \u001B[38;5;28;01mif\u001B[39;00m n_jobs \u001B[38;5;241m==\u001B[39m \u001B[38;5;241m1\u001B[39m:\n\u001B[1;32m---> 62\u001B[0m         \u001B[43m_optimize_sequential\u001B[49m\u001B[43m(\u001B[49m\n\u001B[0;32m     63\u001B[0m \u001B[43m            \u001B[49m\u001B[43mstudy\u001B[49m\u001B[43m,\u001B[49m\n\u001B[0;32m     64\u001B[0m \u001B[43m            \u001B[49m\u001B[43mfunc\u001B[49m\u001B[43m,\u001B[49m\n\u001B[0;32m     65\u001B[0m \u001B[43m            \u001B[49m\u001B[43mn_trials\u001B[49m\u001B[43m,\u001B[49m\n\u001B[0;32m     66\u001B[0m \u001B[43m            \u001B[49m\u001B[43mtimeout\u001B[49m\u001B[43m,\u001B[49m\n\u001B[0;32m     67\u001B[0m \u001B[43m            \u001B[49m\u001B[43mcatch\u001B[49m\u001B[43m,\u001B[49m\n\u001B[0;32m     68\u001B[0m \u001B[43m            \u001B[49m\u001B[43mcallbacks\u001B[49m\u001B[43m,\u001B[49m\n\u001B[0;32m     69\u001B[0m \u001B[43m            \u001B[49m\u001B[43mgc_after_trial\u001B[49m\u001B[43m,\u001B[49m\n\u001B[0;32m     70\u001B[0m \u001B[43m            \u001B[49m\u001B[43mreseed_sampler_rng\u001B[49m\u001B[38;5;241;43m=\u001B[39;49m\u001B[38;5;28;43;01mFalse\u001B[39;49;00m\u001B[43m,\u001B[49m\n\u001B[0;32m     71\u001B[0m \u001B[43m            \u001B[49m\u001B[43mtime_start\u001B[49m\u001B[38;5;241;43m=\u001B[39;49m\u001B[38;5;28;43;01mNone\u001B[39;49;00m\u001B[43m,\u001B[49m\n\u001B[0;32m     72\u001B[0m \u001B[43m            \u001B[49m\u001B[43mprogress_bar\u001B[49m\u001B[38;5;241;43m=\u001B[39;49m\u001B[43mprogress_bar\u001B[49m\u001B[43m,\u001B[49m\n\u001B[0;32m     73\u001B[0m \u001B[43m        \u001B[49m\u001B[43m)\u001B[49m\n\u001B[0;32m     74\u001B[0m     \u001B[38;5;28;01melse\u001B[39;00m:\n\u001B[0;32m     75\u001B[0m         \u001B[38;5;28;01mif\u001B[39;00m n_jobs \u001B[38;5;241m==\u001B[39m \u001B[38;5;241m-\u001B[39m\u001B[38;5;241m1\u001B[39m:\n",
      "File \u001B[1;32mD:\\anaconda3\\envs\\FinOL\\lib\\site-packages\\optuna\\study\\_optimize.py:159\u001B[0m, in \u001B[0;36m_optimize_sequential\u001B[1;34m(study, func, n_trials, timeout, catch, callbacks, gc_after_trial, reseed_sampler_rng, time_start, progress_bar)\u001B[0m\n\u001B[0;32m    156\u001B[0m         \u001B[38;5;28;01mbreak\u001B[39;00m\n\u001B[0;32m    158\u001B[0m \u001B[38;5;28;01mtry\u001B[39;00m:\n\u001B[1;32m--> 159\u001B[0m     frozen_trial \u001B[38;5;241m=\u001B[39m \u001B[43m_run_trial\u001B[49m\u001B[43m(\u001B[49m\u001B[43mstudy\u001B[49m\u001B[43m,\u001B[49m\u001B[43m \u001B[49m\u001B[43mfunc\u001B[49m\u001B[43m,\u001B[49m\u001B[43m \u001B[49m\u001B[43mcatch\u001B[49m\u001B[43m)\u001B[49m\n\u001B[0;32m    160\u001B[0m \u001B[38;5;28;01mfinally\u001B[39;00m:\n\u001B[0;32m    161\u001B[0m     \u001B[38;5;66;03m# The following line mitigates memory problems that can be occurred in some\u001B[39;00m\n\u001B[0;32m    162\u001B[0m     \u001B[38;5;66;03m# environments (e.g., services that use computing containers such as GitHub Actions).\u001B[39;00m\n\u001B[0;32m    163\u001B[0m     \u001B[38;5;66;03m# Please refer to the following PR for further details:\u001B[39;00m\n\u001B[0;32m    164\u001B[0m     \u001B[38;5;66;03m# https://github.com/optuna/optuna/pull/325.\u001B[39;00m\n\u001B[0;32m    165\u001B[0m     \u001B[38;5;28;01mif\u001B[39;00m gc_after_trial:\n",
      "File \u001B[1;32mD:\\anaconda3\\envs\\FinOL\\lib\\site-packages\\optuna\\study\\_optimize.py:247\u001B[0m, in \u001B[0;36m_run_trial\u001B[1;34m(study, func, catch)\u001B[0m\n\u001B[0;32m    240\u001B[0m         \u001B[38;5;28;01massert\u001B[39;00m \u001B[38;5;28;01mFalse\u001B[39;00m, \u001B[38;5;124m\"\u001B[39m\u001B[38;5;124mShould not reach.\u001B[39m\u001B[38;5;124m\"\u001B[39m\n\u001B[0;32m    242\u001B[0m \u001B[38;5;28;01mif\u001B[39;00m (\n\u001B[0;32m    243\u001B[0m     frozen_trial\u001B[38;5;241m.\u001B[39mstate \u001B[38;5;241m==\u001B[39m TrialState\u001B[38;5;241m.\u001B[39mFAIL\n\u001B[0;32m    244\u001B[0m     \u001B[38;5;129;01mand\u001B[39;00m func_err \u001B[38;5;129;01mis\u001B[39;00m \u001B[38;5;129;01mnot\u001B[39;00m \u001B[38;5;28;01mNone\u001B[39;00m\n\u001B[0;32m    245\u001B[0m     \u001B[38;5;129;01mand\u001B[39;00m \u001B[38;5;129;01mnot\u001B[39;00m \u001B[38;5;28misinstance\u001B[39m(func_err, catch)\n\u001B[0;32m    246\u001B[0m ):\n\u001B[1;32m--> 247\u001B[0m     \u001B[38;5;28;01mraise\u001B[39;00m func_err\n\u001B[0;32m    248\u001B[0m \u001B[38;5;28;01mreturn\u001B[39;00m frozen_trial\n",
      "File \u001B[1;32mD:\\anaconda3\\envs\\FinOL\\lib\\site-packages\\optuna\\study\\_optimize.py:196\u001B[0m, in \u001B[0;36m_run_trial\u001B[1;34m(study, func, catch)\u001B[0m\n\u001B[0;32m    194\u001B[0m \u001B[38;5;28;01mwith\u001B[39;00m get_heartbeat_thread(trial\u001B[38;5;241m.\u001B[39m_trial_id, study\u001B[38;5;241m.\u001B[39m_storage):\n\u001B[0;32m    195\u001B[0m     \u001B[38;5;28;01mtry\u001B[39;00m:\n\u001B[1;32m--> 196\u001B[0m         value_or_values \u001B[38;5;241m=\u001B[39m \u001B[43mfunc\u001B[49m\u001B[43m(\u001B[49m\u001B[43mtrial\u001B[49m\u001B[43m)\u001B[49m\n\u001B[0;32m    197\u001B[0m     \u001B[38;5;28;01mexcept\u001B[39;00m exceptions\u001B[38;5;241m.\u001B[39mTrialPruned \u001B[38;5;28;01mas\u001B[39;00m e:\n\u001B[0;32m    198\u001B[0m         \u001B[38;5;66;03m# TODO(mamu): Handle multi-objective cases.\u001B[39;00m\n\u001B[0;32m    199\u001B[0m         state \u001B[38;5;241m=\u001B[39m TrialState\u001B[38;5;241m.\u001B[39mPRUNED\n",
      "File \u001B[1;32mD:\\360安全云盘同步版\\01-广工\\07-研一\\00-论文\\00-本人论文\\13-FinOL\\FinOL\\finol\\optimization_layer\\parameters_tuner.py:85\u001B[0m, in \u001B[0;36mParametersTuner.objective\u001B[1;34m(self, trial)\u001B[0m\n\u001B[0;32m     83\u001B[0m \u001B[38;5;28;01mfor\u001B[39;00m i, data \u001B[38;5;129;01min\u001B[39;00m \u001B[38;5;28menumerate\u001B[39m(\u001B[38;5;28mself\u001B[39m\u001B[38;5;241m.\u001B[39mtrain_loader, \u001B[38;5;241m1\u001B[39m):\n\u001B[0;32m     84\u001B[0m     x_data, label \u001B[38;5;241m=\u001B[39m data\n\u001B[1;32m---> 85\u001B[0m     final_scores \u001B[38;5;241m=\u001B[39m \u001B[43mmodel\u001B[49m\u001B[43m(\u001B[49m\u001B[43mx_data\u001B[49m\u001B[38;5;241;43m.\u001B[39;49m\u001B[43mfloat\u001B[49m\u001B[43m(\u001B[49m\u001B[43m)\u001B[49m\u001B[43m)\u001B[49m\n\u001B[0;32m     86\u001B[0m     portfolio \u001B[38;5;241m=\u001B[39m portfolio_selection(final_scores)\n\u001B[0;32m     87\u001B[0m     loss \u001B[38;5;241m=\u001B[39m criterion(portfolio, label\u001B[38;5;241m.\u001B[39mfloat())\n",
      "File \u001B[1;32mD:\\anaconda3\\envs\\FinOL\\lib\\site-packages\\torch\\nn\\modules\\module.py:1511\u001B[0m, in \u001B[0;36mModule._wrapped_call_impl\u001B[1;34m(self, *args, **kwargs)\u001B[0m\n\u001B[0;32m   1509\u001B[0m     \u001B[38;5;28;01mreturn\u001B[39;00m \u001B[38;5;28mself\u001B[39m\u001B[38;5;241m.\u001B[39m_compiled_call_impl(\u001B[38;5;241m*\u001B[39margs, \u001B[38;5;241m*\u001B[39m\u001B[38;5;241m*\u001B[39mkwargs)  \u001B[38;5;66;03m# type: ignore[misc]\u001B[39;00m\n\u001B[0;32m   1510\u001B[0m \u001B[38;5;28;01melse\u001B[39;00m:\n\u001B[1;32m-> 1511\u001B[0m     \u001B[38;5;28;01mreturn\u001B[39;00m \u001B[38;5;28mself\u001B[39m\u001B[38;5;241m.\u001B[39m_call_impl(\u001B[38;5;241m*\u001B[39margs, \u001B[38;5;241m*\u001B[39m\u001B[38;5;241m*\u001B[39mkwargs)\n",
      "File \u001B[1;32mD:\\anaconda3\\envs\\FinOL\\lib\\site-packages\\torch\\nn\\modules\\module.py:1520\u001B[0m, in \u001B[0;36mModule._call_impl\u001B[1;34m(self, *args, **kwargs)\u001B[0m\n\u001B[0;32m   1515\u001B[0m \u001B[38;5;66;03m# If we don't have any hooks, we want to skip the rest of the logic in\u001B[39;00m\n\u001B[0;32m   1516\u001B[0m \u001B[38;5;66;03m# this function, and just call forward.\u001B[39;00m\n\u001B[0;32m   1517\u001B[0m \u001B[38;5;28;01mif\u001B[39;00m \u001B[38;5;129;01mnot\u001B[39;00m (\u001B[38;5;28mself\u001B[39m\u001B[38;5;241m.\u001B[39m_backward_hooks \u001B[38;5;129;01mor\u001B[39;00m \u001B[38;5;28mself\u001B[39m\u001B[38;5;241m.\u001B[39m_backward_pre_hooks \u001B[38;5;129;01mor\u001B[39;00m \u001B[38;5;28mself\u001B[39m\u001B[38;5;241m.\u001B[39m_forward_hooks \u001B[38;5;129;01mor\u001B[39;00m \u001B[38;5;28mself\u001B[39m\u001B[38;5;241m.\u001B[39m_forward_pre_hooks\n\u001B[0;32m   1518\u001B[0m         \u001B[38;5;129;01mor\u001B[39;00m _global_backward_pre_hooks \u001B[38;5;129;01mor\u001B[39;00m _global_backward_hooks\n\u001B[0;32m   1519\u001B[0m         \u001B[38;5;129;01mor\u001B[39;00m _global_forward_hooks \u001B[38;5;129;01mor\u001B[39;00m _global_forward_pre_hooks):\n\u001B[1;32m-> 1520\u001B[0m     \u001B[38;5;28;01mreturn\u001B[39;00m forward_call(\u001B[38;5;241m*\u001B[39margs, \u001B[38;5;241m*\u001B[39m\u001B[38;5;241m*\u001B[39mkwargs)\n\u001B[0;32m   1522\u001B[0m \u001B[38;5;28;01mtry\u001B[39;00m:\n\u001B[0;32m   1523\u001B[0m     result \u001B[38;5;241m=\u001B[39m \u001B[38;5;28;01mNone\u001B[39;00m\n",
      "File \u001B[1;32mD:\\360安全云盘同步版\\01-广工\\07-研一\\00-论文\\00-本人论文\\13-FinOL\\FinOL\\finol\\model_layer\\DNN.py:88\u001B[0m, in \u001B[0;36mDNN.forward\u001B[1;34m(self, x)\u001B[0m\n\u001B[0;32m     86\u001B[0m \u001B[38;5;250m\u001B[39m\u001B[38;5;124;03m\"\"\"Input Transformation\"\"\"\u001B[39;00m\n\u001B[0;32m     87\u001B[0m \u001B[38;5;28;01mif\u001B[39;00m \u001B[38;5;28mself\u001B[39m\u001B[38;5;241m.\u001B[39mconfig[\u001B[38;5;124m\"\u001B[39m\u001B[38;5;124mSCALER\u001B[39m\u001B[38;5;124m\"\u001B[39m]\u001B[38;5;241m.\u001B[39mstartswith(\u001B[38;5;124m\"\u001B[39m\u001B[38;5;124mWindow\u001B[39m\u001B[38;5;124m\"\u001B[39m):\n\u001B[1;32m---> 88\u001B[0m     x \u001B[38;5;241m=\u001B[39m \u001B[43mScalerSelector\u001B[49m\u001B[43m(\u001B[49m\u001B[43m)\u001B[49m\u001B[38;5;241m.\u001B[39mwindow_normalize(x)\n\u001B[0;32m     90\u001B[0m out \u001B[38;5;241m=\u001B[39m x\n\u001B[0;32m     91\u001B[0m \u001B[38;5;28;01mfor\u001B[39;00m layer \u001B[38;5;129;01min\u001B[39;00m \u001B[38;5;28mself\u001B[39m\u001B[38;5;241m.\u001B[39mlayers:\n",
      "File \u001B[1;32mD:\\360安全云盘同步版\\01-广工\\07-研一\\00-论文\\00-本人论文\\13-FinOL\\FinOL\\finol\\data_layer\\scaler_selector.py:13\u001B[0m, in \u001B[0;36mScalerSelector.__init__\u001B[1;34m(self)\u001B[0m\n\u001B[0;32m     12\u001B[0m \u001B[38;5;28;01mdef\u001B[39;00m \u001B[38;5;21m__init__\u001B[39m(\u001B[38;5;28mself\u001B[39m) \u001B[38;5;241m-\u001B[39m\u001B[38;5;241m>\u001B[39m \u001B[38;5;28;01mNone\u001B[39;00m:\n\u001B[1;32m---> 13\u001B[0m     \u001B[38;5;28mself\u001B[39m\u001B[38;5;241m.\u001B[39mconfig \u001B[38;5;241m=\u001B[39m \u001B[43mload_config\u001B[49m\u001B[43m(\u001B[49m\u001B[43m)\u001B[49m\n\u001B[0;32m     14\u001B[0m     \u001B[38;5;28mself\u001B[39m\u001B[38;5;241m.\u001B[39mscaler_dict \u001B[38;5;241m=\u001B[39m {\n\u001B[0;32m     15\u001B[0m         \u001B[38;5;124m\"\u001B[39m\u001B[38;5;124mNone\u001B[39m\u001B[38;5;124m\"\u001B[39m: \u001B[38;5;124m\"\u001B[39m\u001B[38;5;124mNone\u001B[39m\u001B[38;5;124m\"\u001B[39m,\n\u001B[0;32m     16\u001B[0m         \u001B[38;5;124m\"\u001B[39m\u001B[38;5;124mStandardScaler\u001B[39m\u001B[38;5;124m\"\u001B[39m: preprocessing\u001B[38;5;241m.\u001B[39mStandardScaler,\n\u001B[1;32m   (...)\u001B[0m\n\u001B[0;32m     23\u001B[0m         \u001B[38;5;124m\"\u001B[39m\u001B[38;5;124mWindowRobustScaler\u001B[39m\u001B[38;5;124m\"\u001B[39m: \u001B[38;5;28mself\u001B[39m\u001B[38;5;241m.\u001B[39mwindow_normalize_via_RobustScaler,\n\u001B[0;32m     24\u001B[0m     }\n",
      "File \u001B[1;32mD:\\360安全云盘同步版\\01-广工\\07-研一\\00-论文\\00-本人论文\\13-FinOL\\FinOL\\finol\\utils.py:48\u001B[0m, in \u001B[0;36mload_config\u001B[1;34m()\u001B[0m\n\u001B[0;32m     46\u001B[0m \u001B[38;5;28;01mdef\u001B[39;00m \u001B[38;5;21mload_config\u001B[39m():\n\u001B[0;32m     47\u001B[0m     \u001B[38;5;28;01mwith\u001B[39;00m \u001B[38;5;28mopen\u001B[39m(ROOT_PATH \u001B[38;5;241m+\u001B[39m \u001B[38;5;124m\"\u001B[39m\u001B[38;5;124m/config.json\u001B[39m\u001B[38;5;124m\"\u001B[39m, \u001B[38;5;124m\"\u001B[39m\u001B[38;5;124mr\u001B[39m\u001B[38;5;124m\"\u001B[39m) \u001B[38;5;28;01mas\u001B[39;00m f:\n\u001B[1;32m---> 48\u001B[0m         config \u001B[38;5;241m=\u001B[39m \u001B[43mjson\u001B[49m\u001B[38;5;241;43m.\u001B[39;49m\u001B[43mload\u001B[49m\u001B[43m(\u001B[49m\u001B[43mf\u001B[49m\u001B[43m)\u001B[49m\n\u001B[0;32m     49\u001B[0m     \u001B[38;5;28;01mreturn\u001B[39;00m config\n",
      "File \u001B[1;32mD:\\anaconda3\\envs\\FinOL\\lib\\json\\__init__.py:293\u001B[0m, in \u001B[0;36mload\u001B[1;34m(fp, cls, object_hook, parse_float, parse_int, parse_constant, object_pairs_hook, **kw)\u001B[0m\n\u001B[0;32m    274\u001B[0m \u001B[38;5;28;01mdef\u001B[39;00m \u001B[38;5;21mload\u001B[39m(fp, \u001B[38;5;241m*\u001B[39m, \u001B[38;5;28mcls\u001B[39m\u001B[38;5;241m=\u001B[39m\u001B[38;5;28;01mNone\u001B[39;00m, object_hook\u001B[38;5;241m=\u001B[39m\u001B[38;5;28;01mNone\u001B[39;00m, parse_float\u001B[38;5;241m=\u001B[39m\u001B[38;5;28;01mNone\u001B[39;00m,\n\u001B[0;32m    275\u001B[0m         parse_int\u001B[38;5;241m=\u001B[39m\u001B[38;5;28;01mNone\u001B[39;00m, parse_constant\u001B[38;5;241m=\u001B[39m\u001B[38;5;28;01mNone\u001B[39;00m, object_pairs_hook\u001B[38;5;241m=\u001B[39m\u001B[38;5;28;01mNone\u001B[39;00m, \u001B[38;5;241m*\u001B[39m\u001B[38;5;241m*\u001B[39mkw):\n\u001B[0;32m    276\u001B[0m \u001B[38;5;250m    \u001B[39m\u001B[38;5;124;03m\"\"\"Deserialize ``fp`` (a ``.read()``-supporting file-like object containing\u001B[39;00m\n\u001B[0;32m    277\u001B[0m \u001B[38;5;124;03m    a JSON document) to a Python object.\u001B[39;00m\n\u001B[0;32m    278\u001B[0m \n\u001B[1;32m   (...)\u001B[0m\n\u001B[0;32m    291\u001B[0m \u001B[38;5;124;03m    kwarg; otherwise ``JSONDecoder`` is used.\u001B[39;00m\n\u001B[0;32m    292\u001B[0m \u001B[38;5;124;03m    \"\"\"\u001B[39;00m\n\u001B[1;32m--> 293\u001B[0m     \u001B[38;5;28;01mreturn\u001B[39;00m loads(fp\u001B[38;5;241m.\u001B[39mread(),\n\u001B[0;32m    294\u001B[0m         \u001B[38;5;28mcls\u001B[39m\u001B[38;5;241m=\u001B[39m\u001B[38;5;28mcls\u001B[39m, object_hook\u001B[38;5;241m=\u001B[39mobject_hook,\n\u001B[0;32m    295\u001B[0m         parse_float\u001B[38;5;241m=\u001B[39mparse_float, parse_int\u001B[38;5;241m=\u001B[39mparse_int,\n\u001B[0;32m    296\u001B[0m         parse_constant\u001B[38;5;241m=\u001B[39mparse_constant, object_pairs_hook\u001B[38;5;241m=\u001B[39mobject_pairs_hook, \u001B[38;5;241m*\u001B[39m\u001B[38;5;241m*\u001B[39mkw)\n",
      "File \u001B[1;32mD:\\anaconda3\\envs\\FinOL\\lib\\json\\__init__.py:346\u001B[0m, in \u001B[0;36mloads\u001B[1;34m(s, cls, object_hook, parse_float, parse_int, parse_constant, object_pairs_hook, **kw)\u001B[0m\n\u001B[0;32m    341\u001B[0m     s \u001B[38;5;241m=\u001B[39m s\u001B[38;5;241m.\u001B[39mdecode(detect_encoding(s), \u001B[38;5;124m'\u001B[39m\u001B[38;5;124msurrogatepass\u001B[39m\u001B[38;5;124m'\u001B[39m)\n\u001B[0;32m    343\u001B[0m \u001B[38;5;28;01mif\u001B[39;00m (\u001B[38;5;28mcls\u001B[39m \u001B[38;5;129;01mis\u001B[39;00m \u001B[38;5;28;01mNone\u001B[39;00m \u001B[38;5;129;01mand\u001B[39;00m object_hook \u001B[38;5;129;01mis\u001B[39;00m \u001B[38;5;28;01mNone\u001B[39;00m \u001B[38;5;129;01mand\u001B[39;00m\n\u001B[0;32m    344\u001B[0m         parse_int \u001B[38;5;129;01mis\u001B[39;00m \u001B[38;5;28;01mNone\u001B[39;00m \u001B[38;5;129;01mand\u001B[39;00m parse_float \u001B[38;5;129;01mis\u001B[39;00m \u001B[38;5;28;01mNone\u001B[39;00m \u001B[38;5;129;01mand\u001B[39;00m\n\u001B[0;32m    345\u001B[0m         parse_constant \u001B[38;5;129;01mis\u001B[39;00m \u001B[38;5;28;01mNone\u001B[39;00m \u001B[38;5;129;01mand\u001B[39;00m object_pairs_hook \u001B[38;5;129;01mis\u001B[39;00m \u001B[38;5;28;01mNone\u001B[39;00m \u001B[38;5;129;01mand\u001B[39;00m \u001B[38;5;129;01mnot\u001B[39;00m kw):\n\u001B[1;32m--> 346\u001B[0m     \u001B[38;5;28;01mreturn\u001B[39;00m \u001B[43m_default_decoder\u001B[49m\u001B[38;5;241;43m.\u001B[39;49m\u001B[43mdecode\u001B[49m\u001B[43m(\u001B[49m\u001B[43ms\u001B[49m\u001B[43m)\u001B[49m\n\u001B[0;32m    347\u001B[0m \u001B[38;5;28;01mif\u001B[39;00m \u001B[38;5;28mcls\u001B[39m \u001B[38;5;129;01mis\u001B[39;00m \u001B[38;5;28;01mNone\u001B[39;00m:\n\u001B[0;32m    348\u001B[0m     \u001B[38;5;28mcls\u001B[39m \u001B[38;5;241m=\u001B[39m JSONDecoder\n",
      "File \u001B[1;32mD:\\anaconda3\\envs\\FinOL\\lib\\json\\decoder.py:337\u001B[0m, in \u001B[0;36mJSONDecoder.decode\u001B[1;34m(self, s, _w)\u001B[0m\n\u001B[0;32m    332\u001B[0m \u001B[38;5;28;01mdef\u001B[39;00m \u001B[38;5;21mdecode\u001B[39m(\u001B[38;5;28mself\u001B[39m, s, _w\u001B[38;5;241m=\u001B[39mWHITESPACE\u001B[38;5;241m.\u001B[39mmatch):\n\u001B[0;32m    333\u001B[0m \u001B[38;5;250m    \u001B[39m\u001B[38;5;124;03m\"\"\"Return the Python representation of ``s`` (a ``str`` instance\u001B[39;00m\n\u001B[0;32m    334\u001B[0m \u001B[38;5;124;03m    containing a JSON document).\u001B[39;00m\n\u001B[0;32m    335\u001B[0m \n\u001B[0;32m    336\u001B[0m \u001B[38;5;124;03m    \"\"\"\u001B[39;00m\n\u001B[1;32m--> 337\u001B[0m     obj, end \u001B[38;5;241m=\u001B[39m \u001B[38;5;28;43mself\u001B[39;49m\u001B[38;5;241;43m.\u001B[39;49m\u001B[43mraw_decode\u001B[49m\u001B[43m(\u001B[49m\u001B[43ms\u001B[49m\u001B[43m,\u001B[49m\u001B[43m \u001B[49m\u001B[43midx\u001B[49m\u001B[38;5;241;43m=\u001B[39;49m\u001B[43m_w\u001B[49m\u001B[43m(\u001B[49m\u001B[43ms\u001B[49m\u001B[43m,\u001B[49m\u001B[43m \u001B[49m\u001B[38;5;241;43m0\u001B[39;49m\u001B[43m)\u001B[49m\u001B[38;5;241;43m.\u001B[39;49m\u001B[43mend\u001B[49m\u001B[43m(\u001B[49m\u001B[43m)\u001B[49m\u001B[43m)\u001B[49m\n\u001B[0;32m    338\u001B[0m     end \u001B[38;5;241m=\u001B[39m _w(s, end)\u001B[38;5;241m.\u001B[39mend()\n\u001B[0;32m    339\u001B[0m     \u001B[38;5;28;01mif\u001B[39;00m end \u001B[38;5;241m!=\u001B[39m \u001B[38;5;28mlen\u001B[39m(s):\n",
      "File \u001B[1;32mD:\\anaconda3\\envs\\FinOL\\lib\\json\\decoder.py:355\u001B[0m, in \u001B[0;36mJSONDecoder.raw_decode\u001B[1;34m(self, s, idx)\u001B[0m\n\u001B[0;32m    353\u001B[0m     obj, end \u001B[38;5;241m=\u001B[39m \u001B[38;5;28mself\u001B[39m\u001B[38;5;241m.\u001B[39mscan_once(s, idx)\n\u001B[0;32m    354\u001B[0m \u001B[38;5;28;01mexcept\u001B[39;00m \u001B[38;5;167;01mStopIteration\u001B[39;00m \u001B[38;5;28;01mas\u001B[39;00m err:\n\u001B[1;32m--> 355\u001B[0m     \u001B[38;5;28;01mraise\u001B[39;00m JSONDecodeError(\u001B[38;5;124m\"\u001B[39m\u001B[38;5;124mExpecting value\u001B[39m\u001B[38;5;124m\"\u001B[39m, s, err\u001B[38;5;241m.\u001B[39mvalue) \u001B[38;5;28;01mfrom\u001B[39;00m \u001B[38;5;28;01mNone\u001B[39;00m\n\u001B[0;32m    356\u001B[0m \u001B[38;5;28;01mreturn\u001B[39;00m obj, end\n",
      "\u001B[1;31mJSONDecodeError\u001B[0m: Expecting value: line 1 column 1 (char 0)"
     ]
    }
   ],
   "source": [
    "from finol.data_layer.dataset_loader import DatasetLoader\n",
    "from finol.optimization_layer.model_trainer import ModelTrainer\n",
    "from finol.evaluation_layer.model_evaluator import ModelEvaluator\n",
    "\n",
    "\n",
    "load_dataset_output = DatasetLoader().load_dataset()\n",
    "train_model_output = ModelTrainer(load_dataset_output).train_model()\n",
    "evaluate_model_output = ModelEvaluator(load_dataset_output, train_model_output).evaluate_model()"
   ],
   "metadata": {
    "collapsed": false,
    "pycharm": {
     "name": "#%%\n"
    }
   }
  },
  {
   "cell_type": "code",
   "execution_count": null,
   "outputs": [],
   "source": [],
   "metadata": {
    "collapsed": false,
    "pycharm": {
     "name": "#%%\n"
    }
   }
  }
 ],
 "metadata": {
  "kernelspec": {
   "display_name": "Python 3",
   "language": "python",
   "name": "python3"
  },
  "language_info": {
   "codemirror_mode": {
    "name": "ipython",
    "version": 2
   },
   "file_extension": ".py",
   "mimetype": "text/x-python",
   "name": "python",
   "nbconvert_exporter": "python",
   "pygments_lexer": "ipython2",
   "version": "2.7.6"
  }
 },
 "nbformat": 4,
 "nbformat_minor": 0
}