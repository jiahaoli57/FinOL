{
 "cells": [
  {
   "cell_type": "code",
   "execution_count": null,
   "outputs": [],
   "source": [
    "from finol.data_layer.data_loader import load_dataset\n",
    "from finol.optimization_layer.model_trainer import train_model\n",
    "from finol.evaluation_layer.model_evaluator import evaluate_model\n",
    "from finol.config import *\n",
    "\n",
    "\n",
    "seed = MANUAL_SEED\n",
    "load_dataset_output = load_dataset()\n",
    "train_model_output = train_model(load_dataset_output, seed)\n",
    "evaluate_model_output = evaluate_model(load_dataset_output, train_model_output)"
   ],
   "metadata": {
    "collapsed": false,
    "pycharm": {
     "name": "#%%\n"
    }
   }
  }
 ],
 "metadata": {
  "kernelspec": {
   "display_name": "Python 3",
   "language": "python",
   "name": "python3"
  },
  "language_info": {
   "codemirror_mode": {
    "name": "ipython",
    "version": 2
   },
   "file_extension": ".py",
   "mimetype": "text/x-python",
   "name": "python",
   "nbconvert_exporter": "python",
   "pygments_lexer": "ipython2",
   "version": "2.7.6"
  }
 },
 "nbformat": 4,
 "nbformat_minor": 0
}